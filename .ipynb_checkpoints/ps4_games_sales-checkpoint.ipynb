{
 "cells": [
  {
   "cell_type": "code",
   "execution_count": 104,
   "id": "5b06ffbb-4f34-4c60-b4bc-595d779d7438",
   "metadata": {},
   "outputs": [],
   "source": [
    "import pandas as pd\n",
    "import numpy as np\n",
    "import matplotlib.pyplot as plt"
   ]
  },
  {
   "cell_type": "markdown",
   "id": "e0121b7d-b489-42bf-9bc9-a7e1bf439c08",
   "metadata": {},
   "source": [
    "## **Read Dataset**"
   ]
  },
  {
   "cell_type": "code",
   "execution_count": 105,
   "id": "b8bfa9bf-dfc7-47e7-a7b8-5f3780bdcba3",
   "metadata": {},
   "outputs": [],
   "source": [
    "dataset = pd.read_csv(\"ps4_games_sales.csv\" ,header=0, encoding='unicode_escape')\n",
    "df = dataset.copy()"
   ]
  },
  {
   "cell_type": "markdown",
   "id": "c5224da4-84c5-4350-b927-8d5d72514925",
   "metadata": {
    "tags": []
   },
   "source": [
    "## **Some Informations About Dataset**"
   ]
  },
  {
   "cell_type": "code",
   "execution_count": 106,
   "id": "92ab1330-92e9-4cb3-a494-689a9a6afa9c",
   "metadata": {},
   "outputs": [
    {
     "data": {
      "text/html": [
       "<div>\n",
       "<style scoped>\n",
       "    .dataframe tbody tr th:only-of-type {\n",
       "        vertical-align: middle;\n",
       "    }\n",
       "\n",
       "    .dataframe tbody tr th {\n",
       "        vertical-align: top;\n",
       "    }\n",
       "\n",
       "    .dataframe thead th {\n",
       "        text-align: right;\n",
       "    }\n",
       "</style>\n",
       "<table border=\"1\" class=\"dataframe\">\n",
       "  <thead>\n",
       "    <tr style=\"text-align: right;\">\n",
       "      <th></th>\n",
       "      <th>Game</th>\n",
       "      <th>Year</th>\n",
       "      <th>Genre</th>\n",
       "      <th>Publisher</th>\n",
       "      <th>North America</th>\n",
       "      <th>Europe</th>\n",
       "      <th>Japan</th>\n",
       "      <th>Rest of World</th>\n",
       "      <th>Global</th>\n",
       "    </tr>\n",
       "  </thead>\n",
       "  <tbody>\n",
       "    <tr>\n",
       "      <th>0</th>\n",
       "      <td>Grand Theft Auto V</td>\n",
       "      <td>2014.0</td>\n",
       "      <td>Action</td>\n",
       "      <td>Rockstar Games</td>\n",
       "      <td>6.06</td>\n",
       "      <td>9.71</td>\n",
       "      <td>0.60</td>\n",
       "      <td>3.02</td>\n",
       "      <td>19.39</td>\n",
       "    </tr>\n",
       "    <tr>\n",
       "      <th>1</th>\n",
       "      <td>Call of Duty: Black Ops 3</td>\n",
       "      <td>2015.0</td>\n",
       "      <td>Shooter</td>\n",
       "      <td>Activision</td>\n",
       "      <td>6.18</td>\n",
       "      <td>6.05</td>\n",
       "      <td>0.41</td>\n",
       "      <td>2.44</td>\n",
       "      <td>15.09</td>\n",
       "    </tr>\n",
       "    <tr>\n",
       "      <th>2</th>\n",
       "      <td>Red Dead Redemption 2</td>\n",
       "      <td>2018.0</td>\n",
       "      <td>Action-Adventure</td>\n",
       "      <td>Rockstar Games</td>\n",
       "      <td>5.26</td>\n",
       "      <td>6.21</td>\n",
       "      <td>0.21</td>\n",
       "      <td>2.26</td>\n",
       "      <td>13.94</td>\n",
       "    </tr>\n",
       "    <tr>\n",
       "      <th>3</th>\n",
       "      <td>Call of Duty: WWII</td>\n",
       "      <td>2017.0</td>\n",
       "      <td>Shooter</td>\n",
       "      <td>Activision</td>\n",
       "      <td>4.67</td>\n",
       "      <td>6.21</td>\n",
       "      <td>0.40</td>\n",
       "      <td>2.12</td>\n",
       "      <td>13.40</td>\n",
       "    </tr>\n",
       "    <tr>\n",
       "      <th>4</th>\n",
       "      <td>FIFA 18</td>\n",
       "      <td>2017.0</td>\n",
       "      <td>Sports</td>\n",
       "      <td>EA Sports</td>\n",
       "      <td>1.27</td>\n",
       "      <td>8.64</td>\n",
       "      <td>0.15</td>\n",
       "      <td>1.73</td>\n",
       "      <td>11.80</td>\n",
       "    </tr>\n",
       "    <tr>\n",
       "      <th>...</th>\n",
       "      <td>...</td>\n",
       "      <td>...</td>\n",
       "      <td>...</td>\n",
       "      <td>...</td>\n",
       "      <td>...</td>\n",
       "      <td>...</td>\n",
       "      <td>...</td>\n",
       "      <td>...</td>\n",
       "      <td>...</td>\n",
       "    </tr>\n",
       "    <tr>\n",
       "      <th>1029</th>\n",
       "      <td>Fallen Legion: Flames of Rebellion</td>\n",
       "      <td>NaN</td>\n",
       "      <td>Role-Playing</td>\n",
       "      <td>NaN</td>\n",
       "      <td>0.00</td>\n",
       "      <td>0.00</td>\n",
       "      <td>0.00</td>\n",
       "      <td>0.00</td>\n",
       "      <td>0.00</td>\n",
       "    </tr>\n",
       "    <tr>\n",
       "      <th>1030</th>\n",
       "      <td>Radial G Racing Revolved</td>\n",
       "      <td>2017.0</td>\n",
       "      <td>Racing</td>\n",
       "      <td>Tammeka Games</td>\n",
       "      <td>0.00</td>\n",
       "      <td>0.00</td>\n",
       "      <td>0.00</td>\n",
       "      <td>0.00</td>\n",
       "      <td>0.00</td>\n",
       "    </tr>\n",
       "    <tr>\n",
       "      <th>1031</th>\n",
       "      <td>The Mummy Demastered</td>\n",
       "      <td>NaN</td>\n",
       "      <td>Action</td>\n",
       "      <td>NaN</td>\n",
       "      <td>0.00</td>\n",
       "      <td>0.00</td>\n",
       "      <td>0.00</td>\n",
       "      <td>0.00</td>\n",
       "      <td>0.00</td>\n",
       "    </tr>\n",
       "    <tr>\n",
       "      <th>1032</th>\n",
       "      <td>Project Nimbus: Code Mirai</td>\n",
       "      <td>NaN</td>\n",
       "      <td>Action</td>\n",
       "      <td>NaN</td>\n",
       "      <td>0.00</td>\n",
       "      <td>0.00</td>\n",
       "      <td>0.00</td>\n",
       "      <td>0.00</td>\n",
       "      <td>0.00</td>\n",
       "    </tr>\n",
       "    <tr>\n",
       "      <th>1033</th>\n",
       "      <td>Battle Chef Brigade</td>\n",
       "      <td>NaN</td>\n",
       "      <td>Action</td>\n",
       "      <td>NaN</td>\n",
       "      <td>0.00</td>\n",
       "      <td>0.00</td>\n",
       "      <td>0.00</td>\n",
       "      <td>0.00</td>\n",
       "      <td>0.00</td>\n",
       "    </tr>\n",
       "  </tbody>\n",
       "</table>\n",
       "<p>1034 rows × 9 columns</p>\n",
       "</div>"
      ],
      "text/plain": [
       "                                    Game    Year             Genre  \\\n",
       "0                     Grand Theft Auto V  2014.0            Action   \n",
       "1              Call of Duty: Black Ops 3  2015.0           Shooter   \n",
       "2                  Red Dead Redemption 2  2018.0  Action-Adventure   \n",
       "3                     Call of Duty: WWII  2017.0           Shooter   \n",
       "4                                FIFA 18  2017.0            Sports   \n",
       "...                                  ...     ...               ...   \n",
       "1029  Fallen Legion: Flames of Rebellion     NaN      Role-Playing   \n",
       "1030            Radial G Racing Revolved  2017.0            Racing   \n",
       "1031                The Mummy Demastered     NaN            Action   \n",
       "1032          Project Nimbus: Code Mirai     NaN            Action   \n",
       "1033                 Battle Chef Brigade     NaN            Action   \n",
       "\n",
       "           Publisher  North America  Europe  Japan  Rest of World  Global  \n",
       "0     Rockstar Games           6.06    9.71   0.60           3.02   19.39  \n",
       "1         Activision           6.18    6.05   0.41           2.44   15.09  \n",
       "2     Rockstar Games           5.26    6.21   0.21           2.26   13.94  \n",
       "3         Activision           4.67    6.21   0.40           2.12   13.40  \n",
       "4          EA Sports           1.27    8.64   0.15           1.73   11.80  \n",
       "...              ...            ...     ...    ...            ...     ...  \n",
       "1029             NaN           0.00    0.00   0.00           0.00    0.00  \n",
       "1030   Tammeka Games           0.00    0.00   0.00           0.00    0.00  \n",
       "1031             NaN           0.00    0.00   0.00           0.00    0.00  \n",
       "1032             NaN           0.00    0.00   0.00           0.00    0.00  \n",
       "1033             NaN           0.00    0.00   0.00           0.00    0.00  \n",
       "\n",
       "[1034 rows x 9 columns]"
      ]
     },
     "execution_count": 106,
     "metadata": {},
     "output_type": "execute_result"
    }
   ],
   "source": [
    "df"
   ]
  },
  {
   "cell_type": "code",
   "execution_count": 107,
   "id": "f28da272-9c22-47d9-a2b8-4d7133280a12",
   "metadata": {},
   "outputs": [
    {
     "name": "stdout",
     "output_type": "stream",
     "text": [
      "<class 'pandas.core.frame.DataFrame'>\n",
      "RangeIndex: 1034 entries, 0 to 1033\n",
      "Data columns (total 9 columns):\n",
      " #   Column         Non-Null Count  Dtype  \n",
      "---  ------         --------------  -----  \n",
      " 0   Game           1034 non-null   object \n",
      " 1   Year           825 non-null    float64\n",
      " 2   Genre          1034 non-null   object \n",
      " 3   Publisher      825 non-null    object \n",
      " 4   North America  1034 non-null   float64\n",
      " 5   Europe         1034 non-null   float64\n",
      " 6   Japan          1034 non-null   float64\n",
      " 7   Rest of World  1034 non-null   float64\n",
      " 8   Global         1034 non-null   float64\n",
      "dtypes: float64(6), object(3)\n",
      "memory usage: 72.8+ KB\n"
     ]
    }
   ],
   "source": [
    "df.info()"
   ]
  },
  {
   "cell_type": "code",
   "execution_count": 108,
   "id": "21eea206-4131-4760-8f50-9e89c4e74fe6",
   "metadata": {},
   "outputs": [
    {
     "data": {
      "text/html": [
       "<div>\n",
       "<style scoped>\n",
       "    .dataframe tbody tr th:only-of-type {\n",
       "        vertical-align: middle;\n",
       "    }\n",
       "\n",
       "    .dataframe tbody tr th {\n",
       "        vertical-align: top;\n",
       "    }\n",
       "\n",
       "    .dataframe thead th {\n",
       "        text-align: right;\n",
       "    }\n",
       "</style>\n",
       "<table border=\"1\" class=\"dataframe\">\n",
       "  <thead>\n",
       "    <tr style=\"text-align: right;\">\n",
       "      <th></th>\n",
       "      <th>count</th>\n",
       "      <th>mean</th>\n",
       "      <th>std</th>\n",
       "      <th>min</th>\n",
       "      <th>25%</th>\n",
       "      <th>50%</th>\n",
       "      <th>75%</th>\n",
       "      <th>max</th>\n",
       "    </tr>\n",
       "  </thead>\n",
       "  <tbody>\n",
       "    <tr>\n",
       "      <th>Year</th>\n",
       "      <td>825.0</td>\n",
       "      <td>2015.966061</td>\n",
       "      <td>1.298360</td>\n",
       "      <td>2013.0</td>\n",
       "      <td>2015.0</td>\n",
       "      <td>2016.00</td>\n",
       "      <td>2017.0000</td>\n",
       "      <td>2020.00</td>\n",
       "    </tr>\n",
       "    <tr>\n",
       "      <th>North America</th>\n",
       "      <td>1034.0</td>\n",
       "      <td>0.204613</td>\n",
       "      <td>0.563471</td>\n",
       "      <td>0.0</td>\n",
       "      <td>0.0</td>\n",
       "      <td>0.02</td>\n",
       "      <td>0.1200</td>\n",
       "      <td>6.18</td>\n",
       "    </tr>\n",
       "    <tr>\n",
       "      <th>Europe</th>\n",
       "      <td>1034.0</td>\n",
       "      <td>0.248714</td>\n",
       "      <td>0.785491</td>\n",
       "      <td>0.0</td>\n",
       "      <td>0.0</td>\n",
       "      <td>0.00</td>\n",
       "      <td>0.1300</td>\n",
       "      <td>9.71</td>\n",
       "    </tr>\n",
       "    <tr>\n",
       "      <th>Japan</th>\n",
       "      <td>1034.0</td>\n",
       "      <td>0.033636</td>\n",
       "      <td>0.108344</td>\n",
       "      <td>0.0</td>\n",
       "      <td>0.0</td>\n",
       "      <td>0.00</td>\n",
       "      <td>0.0300</td>\n",
       "      <td>2.17</td>\n",
       "    </tr>\n",
       "    <tr>\n",
       "      <th>Rest of World</th>\n",
       "      <td>1034.0</td>\n",
       "      <td>0.089014</td>\n",
       "      <td>0.249410</td>\n",
       "      <td>0.0</td>\n",
       "      <td>0.0</td>\n",
       "      <td>0.01</td>\n",
       "      <td>0.0500</td>\n",
       "      <td>3.02</td>\n",
       "    </tr>\n",
       "    <tr>\n",
       "      <th>Global</th>\n",
       "      <td>1034.0</td>\n",
       "      <td>0.576054</td>\n",
       "      <td>1.583534</td>\n",
       "      <td>0.0</td>\n",
       "      <td>0.0</td>\n",
       "      <td>0.06</td>\n",
       "      <td>0.3575</td>\n",
       "      <td>19.39</td>\n",
       "    </tr>\n",
       "  </tbody>\n",
       "</table>\n",
       "</div>"
      ],
      "text/plain": [
       "                count         mean       std     min     25%      50%  \\\n",
       "Year            825.0  2015.966061  1.298360  2013.0  2015.0  2016.00   \n",
       "North America  1034.0     0.204613  0.563471     0.0     0.0     0.02   \n",
       "Europe         1034.0     0.248714  0.785491     0.0     0.0     0.00   \n",
       "Japan          1034.0     0.033636  0.108344     0.0     0.0     0.00   \n",
       "Rest of World  1034.0     0.089014  0.249410     0.0     0.0     0.01   \n",
       "Global         1034.0     0.576054  1.583534     0.0     0.0     0.06   \n",
       "\n",
       "                     75%      max  \n",
       "Year           2017.0000  2020.00  \n",
       "North America     0.1200     6.18  \n",
       "Europe            0.1300     9.71  \n",
       "Japan             0.0300     2.17  \n",
       "Rest of World     0.0500     3.02  \n",
       "Global            0.3575    19.39  "
      ]
     },
     "execution_count": 108,
     "metadata": {},
     "output_type": "execute_result"
    }
   ],
   "source": [
    "df.describe().T"
   ]
  },
  {
   "cell_type": "code",
   "execution_count": 109,
   "id": "56936911-47dc-4f67-8ae1-32bfb2fd543a",
   "metadata": {},
   "outputs": [
    {
     "data": {
      "text/plain": [
       "Game               0\n",
       "Year             209\n",
       "Genre              0\n",
       "Publisher        209\n",
       "North America      0\n",
       "Europe             0\n",
       "Japan              0\n",
       "Rest of World      0\n",
       "Global             0\n",
       "dtype: int64"
      ]
     },
     "execution_count": 109,
     "metadata": {},
     "output_type": "execute_result"
    }
   ],
   "source": [
    "df.isnull().sum()"
   ]
  },
  {
   "cell_type": "markdown",
   "id": "61a711be-95ff-4487-b1b2-aaed713d4920",
   "metadata": {},
   "source": [
    "### Delete null Values Rows"
   ]
  },
  {
   "cell_type": "code",
   "execution_count": 110,
   "id": "b2133ee8-464f-4f0c-9e93-f2598f476068",
   "metadata": {},
   "outputs": [],
   "source": [
    "df.dropna(inplace = True)"
   ]
  },
  {
   "cell_type": "code",
   "execution_count": 111,
   "id": "62486131-02ba-4d22-a8b0-cb80056ee1f6",
   "metadata": {},
   "outputs": [
    {
     "data": {
      "text/plain": [
       "Game             0\n",
       "Year             0\n",
       "Genre            0\n",
       "Publisher        0\n",
       "North America    0\n",
       "Europe           0\n",
       "Japan            0\n",
       "Rest of World    0\n",
       "Global           0\n",
       "dtype: int64"
      ]
     },
     "execution_count": 111,
     "metadata": {},
     "output_type": "execute_result"
    }
   ],
   "source": [
    "df.isnull().sum()"
   ]
  },
  {
   "cell_type": "code",
   "execution_count": 112,
   "id": "e669b40b-c55f-4b5c-8cb7-e25dbc6f9ce6",
   "metadata": {},
   "outputs": [
    {
     "data": {
      "text/html": [
       "<div>\n",
       "<style scoped>\n",
       "    .dataframe tbody tr th:only-of-type {\n",
       "        vertical-align: middle;\n",
       "    }\n",
       "\n",
       "    .dataframe tbody tr th {\n",
       "        vertical-align: top;\n",
       "    }\n",
       "\n",
       "    .dataframe thead th {\n",
       "        text-align: right;\n",
       "    }\n",
       "</style>\n",
       "<table border=\"1\" class=\"dataframe\">\n",
       "  <thead>\n",
       "    <tr style=\"text-align: right;\">\n",
       "      <th></th>\n",
       "      <th>Game</th>\n",
       "      <th>Year</th>\n",
       "      <th>Genre</th>\n",
       "      <th>Publisher</th>\n",
       "      <th>North America</th>\n",
       "      <th>Europe</th>\n",
       "      <th>Japan</th>\n",
       "      <th>Rest of World</th>\n",
       "      <th>Global</th>\n",
       "    </tr>\n",
       "  </thead>\n",
       "  <tbody>\n",
       "    <tr>\n",
       "      <th>0</th>\n",
       "      <td>Grand Theft Auto V</td>\n",
       "      <td>2014.0</td>\n",
       "      <td>Action</td>\n",
       "      <td>Rockstar Games</td>\n",
       "      <td>6.06</td>\n",
       "      <td>9.71</td>\n",
       "      <td>0.60</td>\n",
       "      <td>3.02</td>\n",
       "      <td>19.39</td>\n",
       "    </tr>\n",
       "    <tr>\n",
       "      <th>1</th>\n",
       "      <td>Call of Duty: Black Ops 3</td>\n",
       "      <td>2015.0</td>\n",
       "      <td>Shooter</td>\n",
       "      <td>Activision</td>\n",
       "      <td>6.18</td>\n",
       "      <td>6.05</td>\n",
       "      <td>0.41</td>\n",
       "      <td>2.44</td>\n",
       "      <td>15.09</td>\n",
       "    </tr>\n",
       "    <tr>\n",
       "      <th>2</th>\n",
       "      <td>Red Dead Redemption 2</td>\n",
       "      <td>2018.0</td>\n",
       "      <td>Action-Adventure</td>\n",
       "      <td>Rockstar Games</td>\n",
       "      <td>5.26</td>\n",
       "      <td>6.21</td>\n",
       "      <td>0.21</td>\n",
       "      <td>2.26</td>\n",
       "      <td>13.94</td>\n",
       "    </tr>\n",
       "    <tr>\n",
       "      <th>3</th>\n",
       "      <td>Call of Duty: WWII</td>\n",
       "      <td>2017.0</td>\n",
       "      <td>Shooter</td>\n",
       "      <td>Activision</td>\n",
       "      <td>4.67</td>\n",
       "      <td>6.21</td>\n",
       "      <td>0.40</td>\n",
       "      <td>2.12</td>\n",
       "      <td>13.40</td>\n",
       "    </tr>\n",
       "    <tr>\n",
       "      <th>4</th>\n",
       "      <td>FIFA 18</td>\n",
       "      <td>2017.0</td>\n",
       "      <td>Sports</td>\n",
       "      <td>EA Sports</td>\n",
       "      <td>1.27</td>\n",
       "      <td>8.64</td>\n",
       "      <td>0.15</td>\n",
       "      <td>1.73</td>\n",
       "      <td>11.80</td>\n",
       "    </tr>\n",
       "  </tbody>\n",
       "</table>\n",
       "</div>"
      ],
      "text/plain": [
       "                        Game    Year             Genre       Publisher  \\\n",
       "0         Grand Theft Auto V  2014.0            Action  Rockstar Games   \n",
       "1  Call of Duty: Black Ops 3  2015.0           Shooter      Activision   \n",
       "2      Red Dead Redemption 2  2018.0  Action-Adventure  Rockstar Games   \n",
       "3         Call of Duty: WWII  2017.0           Shooter      Activision   \n",
       "4                    FIFA 18  2017.0            Sports       EA Sports   \n",
       "\n",
       "   North America  Europe  Japan  Rest of World  Global  \n",
       "0           6.06    9.71   0.60           3.02   19.39  \n",
       "1           6.18    6.05   0.41           2.44   15.09  \n",
       "2           5.26    6.21   0.21           2.26   13.94  \n",
       "3           4.67    6.21   0.40           2.12   13.40  \n",
       "4           1.27    8.64   0.15           1.73   11.80  "
      ]
     },
     "execution_count": 112,
     "metadata": {},
     "output_type": "execute_result"
    }
   ],
   "source": [
    "df.head()"
   ]
  },
  {
   "cell_type": "markdown",
   "id": "0fa9bbe4-875c-4b31-a32b-0938120536eb",
   "metadata": {},
   "source": [
    "### Number of Unique Game"
   ]
  },
  {
   "cell_type": "code",
   "execution_count": 113,
   "id": "47ff5891-77db-4b2f-8a03-6fdc747cc0b2",
   "metadata": {},
   "outputs": [
    {
     "data": {
      "text/plain": [
       "824"
      ]
     },
     "execution_count": 113,
     "metadata": {},
     "output_type": "execute_result"
    }
   ],
   "source": [
    "df[\"Game\"].nunique()"
   ]
  },
  {
   "cell_type": "markdown",
   "id": "460c621e-83ab-4de4-b7c3-8b03a132c4db",
   "metadata": {},
   "source": [
    "### Number of Unique Genre"
   ]
  },
  {
   "cell_type": "code",
   "execution_count": 114,
   "id": "8ac3a784-f4ee-45f2-a873-093cc0e2ee6a",
   "metadata": {},
   "outputs": [
    {
     "data": {
      "text/plain": [
       "17"
      ]
     },
     "execution_count": 114,
     "metadata": {},
     "output_type": "execute_result"
    }
   ],
   "source": [
    "df[\"Genre\"].nunique()"
   ]
  },
  {
   "cell_type": "markdown",
   "id": "685d99c3-1d7c-4c8d-8d2c-23d5fb23957e",
   "metadata": {},
   "source": [
    "### Number of Unique Publisher"
   ]
  },
  {
   "cell_type": "code",
   "execution_count": 115,
   "id": "3bb46d7c-c4ec-4803-87c5-f819d17e2154",
   "metadata": {},
   "outputs": [
    {
     "data": {
      "text/plain": [
       "152"
      ]
     },
     "execution_count": 115,
     "metadata": {},
     "output_type": "execute_result"
    }
   ],
   "source": [
    "df[\"Publisher\"].nunique()"
   ]
  },
  {
   "cell_type": "markdown",
   "id": "5f1dea4b-a30b-430e-95c6-6faebd041b41",
   "metadata": {},
   "source": [
    "### About Year"
   ]
  },
  {
   "cell_type": "code",
   "execution_count": 117,
   "id": "f63c303c-9230-4cc0-92d5-126440764b4b",
   "metadata": {},
   "outputs": [
    {
     "data": {
      "text/plain": [
       "2017.0    254\n",
       "2016.0    222\n",
       "2015.0    172\n",
       "2014.0     98\n",
       "2018.0     39\n",
       "2013.0     20\n",
       "2019.0     12\n",
       "2020.0      8\n",
       "Name: Year, dtype: int64"
      ]
     },
     "execution_count": 117,
     "metadata": {},
     "output_type": "execute_result"
    }
   ],
   "source": [
    "df[\"Year\"].value_counts()"
   ]
  },
  {
   "cell_type": "code",
   "execution_count": 215,
   "id": "d1455d12-ed9c-4abc-82a1-cf533e310572",
   "metadata": {},
   "outputs": [
    {
     "data": {
      "text/plain": [
       "[<matplotlib.lines.Line2D at 0x7f9aede0e1c0>]"
      ]
     },
     "execution_count": 215,
     "metadata": {},
     "output_type": "execute_result"
    },
    {
     "data": {
      "image/png": "[encoded data removed]",
      "text/plain": [
       "<Figure size 432x288 with 1 Axes>"
      ]
     },
     "metadata": {
      "needs_background": "light"
     },
     "output_type": "display_data"
    }
   ],
   "source": [
    "x = [\"2014\",\"2015\",\"2016\",\"2017\",\"2018\"]\n",
    "y = [98,172,222,254,39]\n",
    "plt.plot(x,y)"
   ]
  },
  {
   "cell_type": "code",
   "execution_count": 216,
   "id": "e4e08e58-70da-463e-91df-279361f1d36f",
   "metadata": {},
   "outputs": [
    {
     "data": {
      "image/png": "[encoded data removed]",
      "text/plain": [
       "<Figure size 432x288 with 1 Axes>"
      ]
     },
     "metadata": {},
     "output_type": "display_data"
    }
   ],
   "source": [
    "\n",
    "plt.pie(y, labels=x)\n",
    "plt.title(\"Games Counts Year by Year\")\n",
    "plt.show()"
   ]
  },
  {
   "cell_type": "code",
   "execution_count": 119,
   "id": "fa05335f-5d65-4a5e-921b-7fd0c7d16429",
   "metadata": {},
   "outputs": [
    {
     "data": {
      "text/html": [
       "<div>\n",
       "<style scoped>\n",
       "    .dataframe tbody tr th:only-of-type {\n",
       "        vertical-align: middle;\n",
       "    }\n",
       "\n",
       "    .dataframe tbody tr th {\n",
       "        vertical-align: top;\n",
       "    }\n",
       "\n",
       "    .dataframe thead th {\n",
       "        text-align: right;\n",
       "    }\n",
       "</style>\n",
       "<table border=\"1\" class=\"dataframe\">\n",
       "  <thead>\n",
       "    <tr style=\"text-align: right;\">\n",
       "      <th></th>\n",
       "      <th>Game</th>\n",
       "      <th>Year</th>\n",
       "      <th>Genre</th>\n",
       "      <th>Publisher</th>\n",
       "      <th>North America</th>\n",
       "      <th>Europe</th>\n",
       "      <th>Japan</th>\n",
       "      <th>Rest of World</th>\n",
       "      <th>Global</th>\n",
       "    </tr>\n",
       "  </thead>\n",
       "  <tbody>\n",
       "    <tr>\n",
       "      <th>0</th>\n",
       "      <td>Grand Theft Auto V</td>\n",
       "      <td>2014.0</td>\n",
       "      <td>Action</td>\n",
       "      <td>Rockstar Games</td>\n",
       "      <td>6.06</td>\n",
       "      <td>9.71</td>\n",
       "      <td>0.60</td>\n",
       "      <td>3.02</td>\n",
       "      <td>19.39</td>\n",
       "    </tr>\n",
       "    <tr>\n",
       "      <th>1</th>\n",
       "      <td>Call of Duty: Black Ops 3</td>\n",
       "      <td>2015.0</td>\n",
       "      <td>Shooter</td>\n",
       "      <td>Activision</td>\n",
       "      <td>6.18</td>\n",
       "      <td>6.05</td>\n",
       "      <td>0.41</td>\n",
       "      <td>2.44</td>\n",
       "      <td>15.09</td>\n",
       "    </tr>\n",
       "    <tr>\n",
       "      <th>2</th>\n",
       "      <td>Red Dead Redemption 2</td>\n",
       "      <td>2018.0</td>\n",
       "      <td>Action-Adventure</td>\n",
       "      <td>Rockstar Games</td>\n",
       "      <td>5.26</td>\n",
       "      <td>6.21</td>\n",
       "      <td>0.21</td>\n",
       "      <td>2.26</td>\n",
       "      <td>13.94</td>\n",
       "    </tr>\n",
       "    <tr>\n",
       "      <th>3</th>\n",
       "      <td>Call of Duty: WWII</td>\n",
       "      <td>2017.0</td>\n",
       "      <td>Shooter</td>\n",
       "      <td>Activision</td>\n",
       "      <td>4.67</td>\n",
       "      <td>6.21</td>\n",
       "      <td>0.40</td>\n",
       "      <td>2.12</td>\n",
       "      <td>13.40</td>\n",
       "    </tr>\n",
       "    <tr>\n",
       "      <th>4</th>\n",
       "      <td>FIFA 18</td>\n",
       "      <td>2017.0</td>\n",
       "      <td>Sports</td>\n",
       "      <td>EA Sports</td>\n",
       "      <td>1.27</td>\n",
       "      <td>8.64</td>\n",
       "      <td>0.15</td>\n",
       "      <td>1.73</td>\n",
       "      <td>11.80</td>\n",
       "    </tr>\n",
       "    <tr>\n",
       "      <th>5</th>\n",
       "      <td>FIFA 17</td>\n",
       "      <td>2016.0</td>\n",
       "      <td>Sports</td>\n",
       "      <td>Electronic Arts</td>\n",
       "      <td>1.26</td>\n",
       "      <td>7.95</td>\n",
       "      <td>0.12</td>\n",
       "      <td>1.61</td>\n",
       "      <td>10.94</td>\n",
       "    </tr>\n",
       "    <tr>\n",
       "      <th>6</th>\n",
       "      <td>Uncharted (PS4)</td>\n",
       "      <td>2016.0</td>\n",
       "      <td>Action</td>\n",
       "      <td>Sony Interactive Entertainment</td>\n",
       "      <td>4.49</td>\n",
       "      <td>3.93</td>\n",
       "      <td>0.21</td>\n",
       "      <td>1.70</td>\n",
       "      <td>10.33</td>\n",
       "    </tr>\n",
       "    <tr>\n",
       "      <th>7</th>\n",
       "      <td>Spider-Man (PS4)</td>\n",
       "      <td>2018.0</td>\n",
       "      <td>Action-Adventure</td>\n",
       "      <td>Sony Interactive Entertainment</td>\n",
       "      <td>3.64</td>\n",
       "      <td>3.39</td>\n",
       "      <td>0.32</td>\n",
       "      <td>1.41</td>\n",
       "      <td>8.76</td>\n",
       "    </tr>\n",
       "    <tr>\n",
       "      <th>8</th>\n",
       "      <td>Call of Duty: Infinite Warfare</td>\n",
       "      <td>2016.0</td>\n",
       "      <td>Shooter</td>\n",
       "      <td>Activision</td>\n",
       "      <td>3.11</td>\n",
       "      <td>3.83</td>\n",
       "      <td>0.19</td>\n",
       "      <td>1.36</td>\n",
       "      <td>8.48</td>\n",
       "    </tr>\n",
       "    <tr>\n",
       "      <th>9</th>\n",
       "      <td>Fallout 4</td>\n",
       "      <td>2015.0</td>\n",
       "      <td>Role-Playing</td>\n",
       "      <td>Bethesda Softworks</td>\n",
       "      <td>2.91</td>\n",
       "      <td>3.97</td>\n",
       "      <td>0.27</td>\n",
       "      <td>1.34</td>\n",
       "      <td>8.48</td>\n",
       "    </tr>\n",
       "  </tbody>\n",
       "</table>\n",
       "</div>"
      ],
      "text/plain": [
       "                             Game    Year             Genre  \\\n",
       "0              Grand Theft Auto V  2014.0            Action   \n",
       "1       Call of Duty: Black Ops 3  2015.0           Shooter   \n",
       "2           Red Dead Redemption 2  2018.0  Action-Adventure   \n",
       "3              Call of Duty: WWII  2017.0           Shooter   \n",
       "4                         FIFA 18  2017.0            Sports   \n",
       "5                         FIFA 17  2016.0            Sports   \n",
       "6                 Uncharted (PS4)  2016.0            Action   \n",
       "7                Spider-Man (PS4)  2018.0  Action-Adventure   \n",
       "8  Call of Duty: Infinite Warfare  2016.0           Shooter   \n",
       "9                       Fallout 4  2015.0      Role-Playing   \n",
       "\n",
       "                        Publisher  North America  Europe  Japan  \\\n",
       "0                  Rockstar Games           6.06    9.71   0.60   \n",
       "1                      Activision           6.18    6.05   0.41   \n",
       "2                  Rockstar Games           5.26    6.21   0.21   \n",
       "3                      Activision           4.67    6.21   0.40   \n",
       "4                       EA Sports           1.27    8.64   0.15   \n",
       "5                 Electronic Arts           1.26    7.95   0.12   \n",
       "6  Sony Interactive Entertainment           4.49    3.93   0.21   \n",
       "7  Sony Interactive Entertainment           3.64    3.39   0.32   \n",
       "8                      Activision           3.11    3.83   0.19   \n",
       "9              Bethesda Softworks           2.91    3.97   0.27   \n",
       "\n",
       "   Rest of World  Global  \n",
       "0           3.02   19.39  \n",
       "1           2.44   15.09  \n",
       "2           2.26   13.94  \n",
       "3           2.12   13.40  \n",
       "4           1.73   11.80  \n",
       "5           1.61   10.94  \n",
       "6           1.70   10.33  \n",
       "7           1.41    8.76  \n",
       "8           1.36    8.48  \n",
       "9           1.34    8.48  "
      ]
     },
     "execution_count": 119,
     "metadata": {},
     "output_type": "execute_result"
    }
   ],
   "source": [
    "df.head(10)"
   ]
  },
  {
   "cell_type": "markdown",
   "id": "c0846163-a98a-4279-a124-b5f0a7c7be31",
   "metadata": {},
   "source": [
    "### **Some Sorting Processing**"
   ]
  },
  {
   "cell_type": "markdown",
   "id": "281ff617-cea9-446b-81ed-51b90c64427f",
   "metadata": {},
   "source": [
    "#### Best Seller in Global"
   ]
  },
  {
   "cell_type": "code",
   "execution_count": 120,
   "id": "22a4ff1d-5a0e-4451-ae3d-d340fe3bc694",
   "metadata": {},
   "outputs": [
    {
     "data": {
      "text/html": [
       "<div>\n",
       "<style scoped>\n",
       "    .dataframe tbody tr th:only-of-type {\n",
       "        vertical-align: middle;\n",
       "    }\n",
       "\n",
       "    .dataframe tbody tr th {\n",
       "        vertical-align: top;\n",
       "    }\n",
       "\n",
       "    .dataframe thead th {\n",
       "        text-align: right;\n",
       "    }\n",
       "</style>\n",
       "<table border=\"1\" class=\"dataframe\">\n",
       "  <thead>\n",
       "    <tr style=\"text-align: right;\">\n",
       "      <th></th>\n",
       "      <th>Game</th>\n",
       "      <th>Year</th>\n",
       "      <th>Genre</th>\n",
       "      <th>Publisher</th>\n",
       "      <th>North America</th>\n",
       "      <th>Europe</th>\n",
       "      <th>Japan</th>\n",
       "      <th>Rest of World</th>\n",
       "      <th>Global</th>\n",
       "    </tr>\n",
       "  </thead>\n",
       "  <tbody>\n",
       "    <tr>\n",
       "      <th>0</th>\n",
       "      <td>Grand Theft Auto V</td>\n",
       "      <td>2014.0</td>\n",
       "      <td>Action</td>\n",
       "      <td>Rockstar Games</td>\n",
       "      <td>6.06</td>\n",
       "      <td>9.71</td>\n",
       "      <td>0.60</td>\n",
       "      <td>3.02</td>\n",
       "      <td>19.39</td>\n",
       "    </tr>\n",
       "    <tr>\n",
       "      <th>1</th>\n",
       "      <td>Call of Duty: Black Ops 3</td>\n",
       "      <td>2015.0</td>\n",
       "      <td>Shooter</td>\n",
       "      <td>Activision</td>\n",
       "      <td>6.18</td>\n",
       "      <td>6.05</td>\n",
       "      <td>0.41</td>\n",
       "      <td>2.44</td>\n",
       "      <td>15.09</td>\n",
       "    </tr>\n",
       "    <tr>\n",
       "      <th>2</th>\n",
       "      <td>Red Dead Redemption 2</td>\n",
       "      <td>2018.0</td>\n",
       "      <td>Action-Adventure</td>\n",
       "      <td>Rockstar Games</td>\n",
       "      <td>5.26</td>\n",
       "      <td>6.21</td>\n",
       "      <td>0.21</td>\n",
       "      <td>2.26</td>\n",
       "      <td>13.94</td>\n",
       "    </tr>\n",
       "    <tr>\n",
       "      <th>3</th>\n",
       "      <td>Call of Duty: WWII</td>\n",
       "      <td>2017.0</td>\n",
       "      <td>Shooter</td>\n",
       "      <td>Activision</td>\n",
       "      <td>4.67</td>\n",
       "      <td>6.21</td>\n",
       "      <td>0.40</td>\n",
       "      <td>2.12</td>\n",
       "      <td>13.40</td>\n",
       "    </tr>\n",
       "    <tr>\n",
       "      <th>4</th>\n",
       "      <td>FIFA 18</td>\n",
       "      <td>2017.0</td>\n",
       "      <td>Sports</td>\n",
       "      <td>EA Sports</td>\n",
       "      <td>1.27</td>\n",
       "      <td>8.64</td>\n",
       "      <td>0.15</td>\n",
       "      <td>1.73</td>\n",
       "      <td>11.80</td>\n",
       "    </tr>\n",
       "  </tbody>\n",
       "</table>\n",
       "</div>"
      ],
      "text/plain": [
       "                        Game    Year             Genre       Publisher  \\\n",
       "0         Grand Theft Auto V  2014.0            Action  Rockstar Games   \n",
       "1  Call of Duty: Black Ops 3  2015.0           Shooter      Activision   \n",
       "2      Red Dead Redemption 2  2018.0  Action-Adventure  Rockstar Games   \n",
       "3         Call of Duty: WWII  2017.0           Shooter      Activision   \n",
       "4                    FIFA 18  2017.0            Sports       EA Sports   \n",
       "\n",
       "   North America  Europe  Japan  Rest of World  Global  \n",
       "0           6.06    9.71   0.60           3.02   19.39  \n",
       "1           6.18    6.05   0.41           2.44   15.09  \n",
       "2           5.26    6.21   0.21           2.26   13.94  \n",
       "3           4.67    6.21   0.40           2.12   13.40  \n",
       "4           1.27    8.64   0.15           1.73   11.80  "
      ]
     },
     "execution_count": 120,
     "metadata": {},
     "output_type": "execute_result"
    }
   ],
   "source": [
    "df.sort_values(\"Global\", ascending = False).head()"
   ]
  },
  {
   "cell_type": "code",
   "execution_count": 121,
   "id": "bb7cedc4-d5de-4634-a6d8-fc142be57448",
   "metadata": {},
   "outputs": [
    {
     "data": {
      "image/png": "[encoded data removed]",
      "text/plain": [
       "<Figure size 1080x576 with 1 Axes>"
      ]
     },
     "metadata": {
      "needs_background": "light"
     },
     "output_type": "display_data"
    }
   ],
   "source": [
    "plt.figure(figsize=(15,8))\n",
    "plt.bar(df.sort_values(\"Global\", ascending = False).head()[\"Game\"],df.sort_values(\"Global\", ascending = False).head()[\"Global\"])\n",
    "plt.title(\"Best Seller Games in Global of All Year\")\n",
    "plt.show()"
   ]
  },
  {
   "cell_type": "code",
   "execution_count": 122,
   "id": "7069cc02-40d4-410d-99ce-717723a9f3e1",
   "metadata": {},
   "outputs": [
    {
     "data": {
      "image/png": "[encoded data removed]",
      "text/plain": [
       "<Figure size 432x288 with 1 Axes>"
      ]
     },
     "metadata": {},
     "output_type": "display_data"
    }
   ],
   "source": [
    "plt.pie(df.sort_values(\"Global\", ascending = False).head()[\"Global\"], labels =df.sort_values(\"Global\", ascending = False).head()[\"Game\"])\n",
    "plt.title(\"Best Seller Games in Global of All Year\")\n",
    "plt.show()"
   ]
  },
  {
   "cell_type": "markdown",
   "id": "b5ca9e4b-f442-4873-b9ac-13f2ad7df284",
   "metadata": {},
   "source": [
    "#### Best Seller in Europe"
   ]
  },
  {
   "cell_type": "code",
   "execution_count": 217,
   "id": "32b877e4-2cfe-459c-9588-41d13de9645b",
   "metadata": {},
   "outputs": [
    {
     "data": {
      "text/html": [
       "<div>\n",
       "<style scoped>\n",
       "    .dataframe tbody tr th:only-of-type {\n",
       "        vertical-align: middle;\n",
       "    }\n",
       "\n",
       "    .dataframe tbody tr th {\n",
       "        vertical-align: top;\n",
       "    }\n",
       "\n",
       "    .dataframe thead th {\n",
       "        text-align: right;\n",
       "    }\n",
       "</style>\n",
       "<table border=\"1\" class=\"dataframe\">\n",
       "  <thead>\n",
       "    <tr style=\"text-align: right;\">\n",
       "      <th></th>\n",
       "      <th>Game</th>\n",
       "      <th>Year</th>\n",
       "      <th>Genre</th>\n",
       "      <th>Publisher</th>\n",
       "      <th>North America</th>\n",
       "      <th>Europe</th>\n",
       "      <th>Japan</th>\n",
       "      <th>Rest of World</th>\n",
       "      <th>Global</th>\n",
       "    </tr>\n",
       "  </thead>\n",
       "  <tbody>\n",
       "    <tr>\n",
       "      <th>0</th>\n",
       "      <td>Grand Theft Auto V</td>\n",
       "      <td>2014.0</td>\n",
       "      <td>Action</td>\n",
       "      <td>Rockstar Games</td>\n",
       "      <td>6.06</td>\n",
       "      <td>9.71</td>\n",
       "      <td>0.60</td>\n",
       "      <td>3.02</td>\n",
       "      <td>19.39</td>\n",
       "    </tr>\n",
       "    <tr>\n",
       "      <th>4</th>\n",
       "      <td>FIFA 18</td>\n",
       "      <td>2017.0</td>\n",
       "      <td>Sports</td>\n",
       "      <td>EA Sports</td>\n",
       "      <td>1.27</td>\n",
       "      <td>8.64</td>\n",
       "      <td>0.15</td>\n",
       "      <td>1.73</td>\n",
       "      <td>11.80</td>\n",
       "    </tr>\n",
       "    <tr>\n",
       "      <th>5</th>\n",
       "      <td>FIFA 17</td>\n",
       "      <td>2016.0</td>\n",
       "      <td>Sports</td>\n",
       "      <td>Electronic Arts</td>\n",
       "      <td>1.26</td>\n",
       "      <td>7.95</td>\n",
       "      <td>0.12</td>\n",
       "      <td>1.61</td>\n",
       "      <td>10.94</td>\n",
       "    </tr>\n",
       "    <tr>\n",
       "      <th>2</th>\n",
       "      <td>Red Dead Redemption 2</td>\n",
       "      <td>2018.0</td>\n",
       "      <td>Action-Adventure</td>\n",
       "      <td>Rockstar Games</td>\n",
       "      <td>5.26</td>\n",
       "      <td>6.21</td>\n",
       "      <td>0.21</td>\n",
       "      <td>2.26</td>\n",
       "      <td>13.94</td>\n",
       "    </tr>\n",
       "    <tr>\n",
       "      <th>3</th>\n",
       "      <td>Call of Duty: WWII</td>\n",
       "      <td>2017.0</td>\n",
       "      <td>Shooter</td>\n",
       "      <td>Activision</td>\n",
       "      <td>4.67</td>\n",
       "      <td>6.21</td>\n",
       "      <td>0.40</td>\n",
       "      <td>2.12</td>\n",
       "      <td>13.40</td>\n",
       "    </tr>\n",
       "  </tbody>\n",
       "</table>\n",
       "</div>"
      ],
      "text/plain": [
       "                    Game    Year             Genre        Publisher  \\\n",
       "0     Grand Theft Auto V  2014.0            Action   Rockstar Games   \n",
       "4                FIFA 18  2017.0            Sports        EA Sports   \n",
       "5                FIFA 17  2016.0            Sports  Electronic Arts   \n",
       "2  Red Dead Redemption 2  2018.0  Action-Adventure   Rockstar Games   \n",
       "3     Call of Duty: WWII  2017.0           Shooter       Activision   \n",
       "\n",
       "   North America  Europe  Japan  Rest of World  Global  \n",
       "0           6.06    9.71   0.60           3.02   19.39  \n",
       "4           1.27    8.64   0.15           1.73   11.80  \n",
       "5           1.26    7.95   0.12           1.61   10.94  \n",
       "2           5.26    6.21   0.21           2.26   13.94  \n",
       "3           4.67    6.21   0.40           2.12   13.40  "
      ]
     },
     "execution_count": 217,
     "metadata": {},
     "output_type": "execute_result"
    }
   ],
   "source": [
    "df.sort_values(\"Europe\", ascending = False).head()"
   ]
  },
  {
   "cell_type": "code",
   "execution_count": 123,
   "id": "33062194-3faa-46fe-9456-de06fa346b9a",
   "metadata": {},
   "outputs": [
    {
     "data": {
      "image/png": "[encoded data removed]",
      "text/plain": [
       "<Figure size 1080x576 with 1 Axes>"
      ]
     },
     "metadata": {
      "needs_background": "light"
     },
     "output_type": "display_data"
    }
   ],
   "source": [
    "plt.figure(figsize=(15,8))\n",
    "plt.bar(df.sort_values(\"Europe\", ascending = False).head()[\"Game\"],df.sort_values(\"Europe\", ascending = False).head()[\"Europe\"])\n",
    "plt.title(\"Best Seller Games in Europe of All Year\")\n",
    "plt.show()"
   ]
  },
  {
   "cell_type": "code",
   "execution_count": 124,
   "id": "e92cb30c-9f5b-40db-94a4-895780ac1c82",
   "metadata": {},
   "outputs": [
    {
     "data": {
      "image/png": "[encoded data removed]",
      "text/plain": [
       "<Figure size 432x288 with 1 Axes>"
      ]
     },
     "metadata": {},
     "output_type": "display_data"
    }
   ],
   "source": [
    "plt.pie(df.sort_values(\"Europe\", ascending = False).head()[\"Europe\"], labels =df.sort_values(\"Europe\", ascending = False).head()[\"Game\"])\n",
    "plt.title(\"Best Seller Games in Europe of All Year\")\n",
    "plt.show()"
   ]
  },
  {
   "cell_type": "markdown",
   "id": "2b555ae9-8a00-4b3e-a1db-58c3793ff71e",
   "metadata": {},
   "source": [
    "### **Note from datas:**\n",
    "* Grand Theft Auto V was published in 2014 and the most bought game in Global.\n",
    "* We can say that, Game is very good and the game is very well marketed.\n",
    "* GTA V is a serie game and it could be effected to sell."
   ]
  },
  {
   "cell_type": "code",
   "execution_count": 125,
   "id": "32535647-9980-4ba5-962f-4e9ad252a832",
   "metadata": {},
   "outputs": [
    {
     "data": {
      "text/html": [
       "<div>\n",
       "<style scoped>\n",
       "    .dataframe tbody tr th:only-of-type {\n",
       "        vertical-align: middle;\n",
       "    }\n",
       "\n",
       "    .dataframe tbody tr th {\n",
       "        vertical-align: top;\n",
       "    }\n",
       "\n",
       "    .dataframe thead th {\n",
       "        text-align: right;\n",
       "    }\n",
       "</style>\n",
       "<table border=\"1\" class=\"dataframe\">\n",
       "  <thead>\n",
       "    <tr style=\"text-align: right;\">\n",
       "      <th></th>\n",
       "      <th>Game</th>\n",
       "      <th>Year</th>\n",
       "      <th>Genre</th>\n",
       "      <th>Publisher</th>\n",
       "      <th>North America</th>\n",
       "      <th>Europe</th>\n",
       "      <th>Japan</th>\n",
       "      <th>Rest of World</th>\n",
       "      <th>Global</th>\n",
       "    </tr>\n",
       "  </thead>\n",
       "  <tbody>\n",
       "    <tr>\n",
       "      <th>0</th>\n",
       "      <td>Grand Theft Auto V</td>\n",
       "      <td>2014.0</td>\n",
       "      <td>Action</td>\n",
       "      <td>Rockstar Games</td>\n",
       "      <td>6.06</td>\n",
       "      <td>9.71</td>\n",
       "      <td>0.60</td>\n",
       "      <td>3.02</td>\n",
       "      <td>19.39</td>\n",
       "    </tr>\n",
       "    <tr>\n",
       "      <th>1</th>\n",
       "      <td>Call of Duty: Black Ops 3</td>\n",
       "      <td>2015.0</td>\n",
       "      <td>Shooter</td>\n",
       "      <td>Activision</td>\n",
       "      <td>6.18</td>\n",
       "      <td>6.05</td>\n",
       "      <td>0.41</td>\n",
       "      <td>2.44</td>\n",
       "      <td>15.09</td>\n",
       "    </tr>\n",
       "    <tr>\n",
       "      <th>2</th>\n",
       "      <td>Red Dead Redemption 2</td>\n",
       "      <td>2018.0</td>\n",
       "      <td>Action-Adventure</td>\n",
       "      <td>Rockstar Games</td>\n",
       "      <td>5.26</td>\n",
       "      <td>6.21</td>\n",
       "      <td>0.21</td>\n",
       "      <td>2.26</td>\n",
       "      <td>13.94</td>\n",
       "    </tr>\n",
       "    <tr>\n",
       "      <th>3</th>\n",
       "      <td>Call of Duty: WWII</td>\n",
       "      <td>2017.0</td>\n",
       "      <td>Shooter</td>\n",
       "      <td>Activision</td>\n",
       "      <td>4.67</td>\n",
       "      <td>6.21</td>\n",
       "      <td>0.40</td>\n",
       "      <td>2.12</td>\n",
       "      <td>13.40</td>\n",
       "    </tr>\n",
       "    <tr>\n",
       "      <th>4</th>\n",
       "      <td>FIFA 18</td>\n",
       "      <td>2017.0</td>\n",
       "      <td>Sports</td>\n",
       "      <td>EA Sports</td>\n",
       "      <td>1.27</td>\n",
       "      <td>8.64</td>\n",
       "      <td>0.15</td>\n",
       "      <td>1.73</td>\n",
       "      <td>11.80</td>\n",
       "    </tr>\n",
       "  </tbody>\n",
       "</table>\n",
       "</div>"
      ],
      "text/plain": [
       "                        Game    Year             Genre       Publisher  \\\n",
       "0         Grand Theft Auto V  2014.0            Action  Rockstar Games   \n",
       "1  Call of Duty: Black Ops 3  2015.0           Shooter      Activision   \n",
       "2      Red Dead Redemption 2  2018.0  Action-Adventure  Rockstar Games   \n",
       "3         Call of Duty: WWII  2017.0           Shooter      Activision   \n",
       "4                    FIFA 18  2017.0            Sports       EA Sports   \n",
       "\n",
       "   North America  Europe  Japan  Rest of World  Global  \n",
       "0           6.06    9.71   0.60           3.02   19.39  \n",
       "1           6.18    6.05   0.41           2.44   15.09  \n",
       "2           5.26    6.21   0.21           2.26   13.94  \n",
       "3           4.67    6.21   0.40           2.12   13.40  \n",
       "4           1.27    8.64   0.15           1.73   11.80  "
      ]
     },
     "execution_count": 125,
     "metadata": {},
     "output_type": "execute_result"
    }
   ],
   "source": [
    "df.head()"
   ]
  },
  {
   "cell_type": "markdown",
   "id": "84243e10-6b2f-4d72-b321-8f21467bfec4",
   "metadata": {},
   "source": [
    "### **Sorting Year**"
   ]
  },
  {
   "cell_type": "markdown",
   "id": "4ed258f3-aed7-49c9-9f96-822379f79fc2",
   "metadata": {},
   "source": [
    "#### in 2014 Best Seller in Global"
   ]
  },
  {
   "cell_type": "code",
   "execution_count": 126,
   "id": "56537146-0f7a-4479-94a5-54d7f41b21f7",
   "metadata": {
    "tags": []
   },
   "outputs": [
    {
     "data": {
      "text/html": [
       "<div>\n",
       "<style scoped>\n",
       "    .dataframe tbody tr th:only-of-type {\n",
       "        vertical-align: middle;\n",
       "    }\n",
       "\n",
       "    .dataframe tbody tr th {\n",
       "        vertical-align: top;\n",
       "    }\n",
       "\n",
       "    .dataframe thead th {\n",
       "        text-align: right;\n",
       "    }\n",
       "</style>\n",
       "<table border=\"1\" class=\"dataframe\">\n",
       "  <thead>\n",
       "    <tr style=\"text-align: right;\">\n",
       "      <th></th>\n",
       "      <th>Game</th>\n",
       "      <th>Year</th>\n",
       "      <th>Genre</th>\n",
       "      <th>Publisher</th>\n",
       "      <th>North America</th>\n",
       "      <th>Europe</th>\n",
       "      <th>Japan</th>\n",
       "      <th>Rest of World</th>\n",
       "      <th>Global</th>\n",
       "    </tr>\n",
       "  </thead>\n",
       "  <tbody>\n",
       "    <tr>\n",
       "      <th>0</th>\n",
       "      <td>Grand Theft Auto V</td>\n",
       "      <td>2014.0</td>\n",
       "      <td>Action</td>\n",
       "      <td>Rockstar Games</td>\n",
       "      <td>6.06</td>\n",
       "      <td>9.71</td>\n",
       "      <td>0.60</td>\n",
       "      <td>3.02</td>\n",
       "      <td>19.39</td>\n",
       "    </tr>\n",
       "    <tr>\n",
       "      <th>12</th>\n",
       "      <td>Call of Duty: Advanced Warfare</td>\n",
       "      <td>2014.0</td>\n",
       "      <td>Shooter</td>\n",
       "      <td>Activision</td>\n",
       "      <td>2.84</td>\n",
       "      <td>3.34</td>\n",
       "      <td>0.14</td>\n",
       "      <td>1.22</td>\n",
       "      <td>7.53</td>\n",
       "    </tr>\n",
       "    <tr>\n",
       "      <th>14</th>\n",
       "      <td>The Last of Us</td>\n",
       "      <td>2014.0</td>\n",
       "      <td>Action-Adventure</td>\n",
       "      <td>Sony Computer Entertainment</td>\n",
       "      <td>2.70</td>\n",
       "      <td>2.86</td>\n",
       "      <td>0.11</td>\n",
       "      <td>1.10</td>\n",
       "      <td>6.77</td>\n",
       "    </tr>\n",
       "  </tbody>\n",
       "</table>\n",
       "</div>"
      ],
      "text/plain": [
       "                              Game    Year             Genre  \\\n",
       "0               Grand Theft Auto V  2014.0            Action   \n",
       "12  Call of Duty: Advanced Warfare  2014.0           Shooter   \n",
       "14                  The Last of Us  2014.0  Action-Adventure   \n",
       "\n",
       "                      Publisher  North America  Europe  Japan  Rest of World  \\\n",
       "0                Rockstar Games           6.06    9.71   0.60           3.02   \n",
       "12                   Activision           2.84    3.34   0.14           1.22   \n",
       "14  Sony Computer Entertainment           2.70    2.86   0.11           1.10   \n",
       "\n",
       "    Global  \n",
       "0    19.39  \n",
       "12    7.53  \n",
       "14    6.77  "
      ]
     },
     "execution_count": 126,
     "metadata": {},
     "output_type": "execute_result"
    }
   ],
   "source": [
    "df[df[\"Year\"] == 2014.0].sort_values(\"Global\", ascending = False).head(3)"
   ]
  },
  {
   "cell_type": "markdown",
   "id": "536921c6-04a1-4a50-882b-bf6c066baa00",
   "metadata": {},
   "source": [
    "#### in 2015 Best Seller in Global"
   ]
  },
  {
   "cell_type": "code",
   "execution_count": 127,
   "id": "aba20fe6-f6e5-49d4-99fb-98e14b556e7f",
   "metadata": {
    "tags": []
   },
   "outputs": [
    {
     "data": {
      "text/html": [
       "<div>\n",
       "<style scoped>\n",
       "    .dataframe tbody tr th:only-of-type {\n",
       "        vertical-align: middle;\n",
       "    }\n",
       "\n",
       "    .dataframe tbody tr th {\n",
       "        vertical-align: top;\n",
       "    }\n",
       "\n",
       "    .dataframe thead th {\n",
       "        text-align: right;\n",
       "    }\n",
       "</style>\n",
       "<table border=\"1\" class=\"dataframe\">\n",
       "  <thead>\n",
       "    <tr style=\"text-align: right;\">\n",
       "      <th></th>\n",
       "      <th>Game</th>\n",
       "      <th>Year</th>\n",
       "      <th>Genre</th>\n",
       "      <th>Publisher</th>\n",
       "      <th>North America</th>\n",
       "      <th>Europe</th>\n",
       "      <th>Japan</th>\n",
       "      <th>Rest of World</th>\n",
       "      <th>Global</th>\n",
       "    </tr>\n",
       "  </thead>\n",
       "  <tbody>\n",
       "    <tr>\n",
       "      <th>1</th>\n",
       "      <td>Call of Duty: Black Ops 3</td>\n",
       "      <td>2015.0</td>\n",
       "      <td>Shooter</td>\n",
       "      <td>Activision</td>\n",
       "      <td>6.18</td>\n",
       "      <td>6.05</td>\n",
       "      <td>0.41</td>\n",
       "      <td>2.44</td>\n",
       "      <td>15.09</td>\n",
       "    </tr>\n",
       "    <tr>\n",
       "      <th>9</th>\n",
       "      <td>Fallout 4</td>\n",
       "      <td>2015.0</td>\n",
       "      <td>Role-Playing</td>\n",
       "      <td>Bethesda Softworks</td>\n",
       "      <td>2.91</td>\n",
       "      <td>3.97</td>\n",
       "      <td>0.27</td>\n",
       "      <td>1.34</td>\n",
       "      <td>8.48</td>\n",
       "    </tr>\n",
       "    <tr>\n",
       "      <th>10</th>\n",
       "      <td>FIFA 16</td>\n",
       "      <td>2015.0</td>\n",
       "      <td>Sports</td>\n",
       "      <td>EA Sports</td>\n",
       "      <td>1.15</td>\n",
       "      <td>5.77</td>\n",
       "      <td>0.07</td>\n",
       "      <td>1.23</td>\n",
       "      <td>8.22</td>\n",
       "    </tr>\n",
       "  </tbody>\n",
       "</table>\n",
       "</div>"
      ],
      "text/plain": [
       "                         Game    Year         Genre           Publisher  \\\n",
       "1   Call of Duty: Black Ops 3  2015.0       Shooter          Activision   \n",
       "9                   Fallout 4  2015.0  Role-Playing  Bethesda Softworks   \n",
       "10                    FIFA 16  2015.0        Sports           EA Sports   \n",
       "\n",
       "    North America  Europe  Japan  Rest of World  Global  \n",
       "1            6.18    6.05   0.41           2.44   15.09  \n",
       "9            2.91    3.97   0.27           1.34    8.48  \n",
       "10           1.15    5.77   0.07           1.23    8.22  "
      ]
     },
     "execution_count": 127,
     "metadata": {},
     "output_type": "execute_result"
    }
   ],
   "source": [
    "df[df[\"Year\"] == 2015.0].sort_values(\"Global\", ascending = False).head(3)"
   ]
  },
  {
   "cell_type": "markdown",
   "id": "6fa83e08-194a-436c-b72f-557ca5e28cdd",
   "metadata": {},
   "source": [
    "#### in 2016 Best Seller in Global"
   ]
  },
  {
   "cell_type": "code",
   "execution_count": 128,
   "id": "4f3cee64-3e43-46cb-8596-b10486c36cb1",
   "metadata": {
    "tags": []
   },
   "outputs": [
    {
     "data": {
      "text/html": [
       "<div>\n",
       "<style scoped>\n",
       "    .dataframe tbody tr th:only-of-type {\n",
       "        vertical-align: middle;\n",
       "    }\n",
       "\n",
       "    .dataframe tbody tr th {\n",
       "        vertical-align: top;\n",
       "    }\n",
       "\n",
       "    .dataframe thead th {\n",
       "        text-align: right;\n",
       "    }\n",
       "</style>\n",
       "<table border=\"1\" class=\"dataframe\">\n",
       "  <thead>\n",
       "    <tr style=\"text-align: right;\">\n",
       "      <th></th>\n",
       "      <th>Game</th>\n",
       "      <th>Year</th>\n",
       "      <th>Genre</th>\n",
       "      <th>Publisher</th>\n",
       "      <th>North America</th>\n",
       "      <th>Europe</th>\n",
       "      <th>Japan</th>\n",
       "      <th>Rest of World</th>\n",
       "      <th>Global</th>\n",
       "    </tr>\n",
       "  </thead>\n",
       "  <tbody>\n",
       "    <tr>\n",
       "      <th>5</th>\n",
       "      <td>FIFA 17</td>\n",
       "      <td>2016.0</td>\n",
       "      <td>Sports</td>\n",
       "      <td>Electronic Arts</td>\n",
       "      <td>1.26</td>\n",
       "      <td>7.95</td>\n",
       "      <td>0.12</td>\n",
       "      <td>1.61</td>\n",
       "      <td>10.94</td>\n",
       "    </tr>\n",
       "    <tr>\n",
       "      <th>6</th>\n",
       "      <td>Uncharted (PS4)</td>\n",
       "      <td>2016.0</td>\n",
       "      <td>Action</td>\n",
       "      <td>Sony Interactive Entertainment</td>\n",
       "      <td>4.49</td>\n",
       "      <td>3.93</td>\n",
       "      <td>0.21</td>\n",
       "      <td>1.70</td>\n",
       "      <td>10.33</td>\n",
       "    </tr>\n",
       "    <tr>\n",
       "      <th>8</th>\n",
       "      <td>Call of Duty: Infinite Warfare</td>\n",
       "      <td>2016.0</td>\n",
       "      <td>Shooter</td>\n",
       "      <td>Activision</td>\n",
       "      <td>3.11</td>\n",
       "      <td>3.83</td>\n",
       "      <td>0.19</td>\n",
       "      <td>1.36</td>\n",
       "      <td>8.48</td>\n",
       "    </tr>\n",
       "  </tbody>\n",
       "</table>\n",
       "</div>"
      ],
      "text/plain": [
       "                             Game    Year    Genre  \\\n",
       "5                         FIFA 17  2016.0   Sports   \n",
       "6                 Uncharted (PS4)  2016.0   Action   \n",
       "8  Call of Duty: Infinite Warfare  2016.0  Shooter   \n",
       "\n",
       "                        Publisher  North America  Europe  Japan  \\\n",
       "5                 Electronic Arts           1.26    7.95   0.12   \n",
       "6  Sony Interactive Entertainment           4.49    3.93   0.21   \n",
       "8                      Activision           3.11    3.83   0.19   \n",
       "\n",
       "   Rest of World  Global  \n",
       "5           1.61   10.94  \n",
       "6           1.70   10.33  \n",
       "8           1.36    8.48  "
      ]
     },
     "execution_count": 128,
     "metadata": {},
     "output_type": "execute_result"
    }
   ],
   "source": [
    "df[df[\"Year\"] == 2016.0].sort_values(\"Global\", ascending = False).head(3)"
   ]
  },
  {
   "cell_type": "markdown",
   "id": "c6b56c18-1aef-4aad-bebe-048f57ca7b62",
   "metadata": {},
   "source": [
    "#### in 2017 Best Seller in Global"
   ]
  },
  {
   "cell_type": "code",
   "execution_count": 129,
   "id": "9b1fd917-3443-4883-8eab-9cb92baca54a",
   "metadata": {
    "tags": []
   },
   "outputs": [
    {
     "data": {
      "text/html": [
       "<div>\n",
       "<style scoped>\n",
       "    .dataframe tbody tr th:only-of-type {\n",
       "        vertical-align: middle;\n",
       "    }\n",
       "\n",
       "    .dataframe tbody tr th {\n",
       "        vertical-align: top;\n",
       "    }\n",
       "\n",
       "    .dataframe thead th {\n",
       "        text-align: right;\n",
       "    }\n",
       "</style>\n",
       "<table border=\"1\" class=\"dataframe\">\n",
       "  <thead>\n",
       "    <tr style=\"text-align: right;\">\n",
       "      <th></th>\n",
       "      <th>Game</th>\n",
       "      <th>Year</th>\n",
       "      <th>Genre</th>\n",
       "      <th>Publisher</th>\n",
       "      <th>North America</th>\n",
       "      <th>Europe</th>\n",
       "      <th>Japan</th>\n",
       "      <th>Rest of World</th>\n",
       "      <th>Global</th>\n",
       "    </tr>\n",
       "  </thead>\n",
       "  <tbody>\n",
       "    <tr>\n",
       "      <th>3</th>\n",
       "      <td>Call of Duty: WWII</td>\n",
       "      <td>2017.0</td>\n",
       "      <td>Shooter</td>\n",
       "      <td>Activision</td>\n",
       "      <td>4.67</td>\n",
       "      <td>6.21</td>\n",
       "      <td>0.40</td>\n",
       "      <td>2.12</td>\n",
       "      <td>13.40</td>\n",
       "    </tr>\n",
       "    <tr>\n",
       "      <th>4</th>\n",
       "      <td>FIFA 18</td>\n",
       "      <td>2017.0</td>\n",
       "      <td>Sports</td>\n",
       "      <td>EA Sports</td>\n",
       "      <td>1.27</td>\n",
       "      <td>8.64</td>\n",
       "      <td>0.15</td>\n",
       "      <td>1.73</td>\n",
       "      <td>11.80</td>\n",
       "    </tr>\n",
       "    <tr>\n",
       "      <th>18</th>\n",
       "      <td>Horizon: Zero Dawn</td>\n",
       "      <td>2017.0</td>\n",
       "      <td>Action</td>\n",
       "      <td>Sony Interactive Entertainment</td>\n",
       "      <td>2.20</td>\n",
       "      <td>2.43</td>\n",
       "      <td>0.28</td>\n",
       "      <td>0.92</td>\n",
       "      <td>5.82</td>\n",
       "    </tr>\n",
       "  </tbody>\n",
       "</table>\n",
       "</div>"
      ],
      "text/plain": [
       "                  Game    Year    Genre                       Publisher  \\\n",
       "3   Call of Duty: WWII  2017.0  Shooter                      Activision   \n",
       "4              FIFA 18  2017.0   Sports                       EA Sports   \n",
       "18  Horizon: Zero Dawn  2017.0   Action  Sony Interactive Entertainment   \n",
       "\n",
       "    North America  Europe  Japan  Rest of World  Global  \n",
       "3            4.67    6.21   0.40           2.12   13.40  \n",
       "4            1.27    8.64   0.15           1.73   11.80  \n",
       "18           2.20    2.43   0.28           0.92    5.82  "
      ]
     },
     "execution_count": 129,
     "metadata": {},
     "output_type": "execute_result"
    }
   ],
   "source": [
    "df[df[\"Year\"] == 2017.0].sort_values(\"Global\", ascending = False).head(3)"
   ]
  },
  {
   "cell_type": "markdown",
   "id": "07e40aa7-e585-4360-97a3-abfaccda8633",
   "metadata": {},
   "source": [
    "#### in 2018 Best Seller in Global"
   ]
  },
  {
   "cell_type": "code",
   "execution_count": 130,
   "id": "a6cd0da5-42ec-4355-a742-658f4b592673",
   "metadata": {
    "tags": []
   },
   "outputs": [
    {
     "data": {
      "text/html": [
       "<div>\n",
       "<style scoped>\n",
       "    .dataframe tbody tr th:only-of-type {\n",
       "        vertical-align: middle;\n",
       "    }\n",
       "\n",
       "    .dataframe tbody tr th {\n",
       "        vertical-align: top;\n",
       "    }\n",
       "\n",
       "    .dataframe thead th {\n",
       "        text-align: right;\n",
       "    }\n",
       "</style>\n",
       "<table border=\"1\" class=\"dataframe\">\n",
       "  <thead>\n",
       "    <tr style=\"text-align: right;\">\n",
       "      <th></th>\n",
       "      <th>Game</th>\n",
       "      <th>Year</th>\n",
       "      <th>Genre</th>\n",
       "      <th>Publisher</th>\n",
       "      <th>North America</th>\n",
       "      <th>Europe</th>\n",
       "      <th>Japan</th>\n",
       "      <th>Rest of World</th>\n",
       "      <th>Global</th>\n",
       "    </tr>\n",
       "  </thead>\n",
       "  <tbody>\n",
       "    <tr>\n",
       "      <th>2</th>\n",
       "      <td>Red Dead Redemption 2</td>\n",
       "      <td>2018.0</td>\n",
       "      <td>Action-Adventure</td>\n",
       "      <td>Rockstar Games</td>\n",
       "      <td>5.26</td>\n",
       "      <td>6.21</td>\n",
       "      <td>0.21</td>\n",
       "      <td>2.26</td>\n",
       "      <td>13.94</td>\n",
       "    </tr>\n",
       "    <tr>\n",
       "      <th>7</th>\n",
       "      <td>Spider-Man (PS4)</td>\n",
       "      <td>2018.0</td>\n",
       "      <td>Action-Adventure</td>\n",
       "      <td>Sony Interactive Entertainment</td>\n",
       "      <td>3.64</td>\n",
       "      <td>3.39</td>\n",
       "      <td>0.32</td>\n",
       "      <td>1.41</td>\n",
       "      <td>8.76</td>\n",
       "    </tr>\n",
       "    <tr>\n",
       "      <th>17</th>\n",
       "      <td>God of War (PS4)</td>\n",
       "      <td>2018.0</td>\n",
       "      <td>Action</td>\n",
       "      <td>Sony Interactive Entertainment</td>\n",
       "      <td>2.83</td>\n",
       "      <td>2.17</td>\n",
       "      <td>0.13</td>\n",
       "      <td>1.02</td>\n",
       "      <td>6.15</td>\n",
       "    </tr>\n",
       "  </tbody>\n",
       "</table>\n",
       "</div>"
      ],
      "text/plain": [
       "                     Game    Year             Genre  \\\n",
       "2   Red Dead Redemption 2  2018.0  Action-Adventure   \n",
       "7        Spider-Man (PS4)  2018.0  Action-Adventure   \n",
       "17       God of War (PS4)  2018.0            Action   \n",
       "\n",
       "                         Publisher  North America  Europe  Japan  \\\n",
       "2                   Rockstar Games           5.26    6.21   0.21   \n",
       "7   Sony Interactive Entertainment           3.64    3.39   0.32   \n",
       "17  Sony Interactive Entertainment           2.83    2.17   0.13   \n",
       "\n",
       "    Rest of World  Global  \n",
       "2            2.26   13.94  \n",
       "7            1.41    8.76  \n",
       "17           1.02    6.15  "
      ]
     },
     "execution_count": 130,
     "metadata": {},
     "output_type": "execute_result"
    }
   ],
   "source": [
    "df[df[\"Year\"] == 2018.0].sort_values(\"Global\", ascending = False).head(3)"
   ]
  },
  {
   "cell_type": "markdown",
   "id": "422e760e-5b03-4b8c-9a2f-c460d06c2aa8",
   "metadata": {},
   "source": [
    "### **Note From Datas (2015, 2016, 2017, 2018):**\n",
    "### How many times companies best seller games in 3\n",
    "* Sony = 5 \n",
    "* Activision = 4\n",
    "* Rockstar Games = 2\n",
    "* EA Sports = 2\n",
    "* Bethesda Softworks = 1\n",
    "* Electronic Arts = 1"
   ]
  },
  {
   "cell_type": "code",
   "execution_count": 131,
   "id": "7f42d543-8942-4d30-9541-66eda167c647",
   "metadata": {},
   "outputs": [
    {
     "data": {
      "image/png": "[encoded data removed]",
      "text/plain": [
       "<Figure size 1080x576 with 1 Axes>"
      ]
     },
     "metadata": {
      "needs_background": "light"
     },
     "output_type": "display_data"
    }
   ],
   "source": [
    "x = [\"Sony\", \"Activision\", \"Rockstar Games\", \"EA Sports\", \"Bethesda Softworks\", \"Electronic Arts\"]\n",
    "y = [5, 4, 2, 2, 1, 1]\n",
    "plt.figure(figsize=(15,8))\n",
    "plt.bar(x,y)\n",
    "plt.title(\"Best Seller Companies\")\n",
    "plt.show()"
   ]
  },
  {
   "cell_type": "code",
   "execution_count": 132,
   "id": "fed2398e-eb02-43b6-905d-7cea50a3f9ee",
   "metadata": {},
   "outputs": [
    {
     "data": {
      "text/html": [
       "<div>\n",
       "<style scoped>\n",
       "    .dataframe tbody tr th:only-of-type {\n",
       "        vertical-align: middle;\n",
       "    }\n",
       "\n",
       "    .dataframe tbody tr th {\n",
       "        vertical-align: top;\n",
       "    }\n",
       "\n",
       "    .dataframe thead th {\n",
       "        text-align: right;\n",
       "    }\n",
       "</style>\n",
       "<table border=\"1\" class=\"dataframe\">\n",
       "  <thead>\n",
       "    <tr style=\"text-align: right;\">\n",
       "      <th></th>\n",
       "      <th>Game</th>\n",
       "      <th>Year</th>\n",
       "      <th>Genre</th>\n",
       "      <th>Publisher</th>\n",
       "      <th>North America</th>\n",
       "      <th>Europe</th>\n",
       "      <th>Japan</th>\n",
       "      <th>Rest of World</th>\n",
       "      <th>Global</th>\n",
       "    </tr>\n",
       "  </thead>\n",
       "  <tbody>\n",
       "    <tr>\n",
       "      <th>0</th>\n",
       "      <td>Grand Theft Auto V</td>\n",
       "      <td>2014.0</td>\n",
       "      <td>Action</td>\n",
       "      <td>Rockstar Games</td>\n",
       "      <td>6.06</td>\n",
       "      <td>9.71</td>\n",
       "      <td>0.60</td>\n",
       "      <td>3.02</td>\n",
       "      <td>19.39</td>\n",
       "    </tr>\n",
       "    <tr>\n",
       "      <th>1</th>\n",
       "      <td>Call of Duty: Black Ops 3</td>\n",
       "      <td>2015.0</td>\n",
       "      <td>Shooter</td>\n",
       "      <td>Activision</td>\n",
       "      <td>6.18</td>\n",
       "      <td>6.05</td>\n",
       "      <td>0.41</td>\n",
       "      <td>2.44</td>\n",
       "      <td>15.09</td>\n",
       "    </tr>\n",
       "    <tr>\n",
       "      <th>2</th>\n",
       "      <td>Red Dead Redemption 2</td>\n",
       "      <td>2018.0</td>\n",
       "      <td>Action-Adventure</td>\n",
       "      <td>Rockstar Games</td>\n",
       "      <td>5.26</td>\n",
       "      <td>6.21</td>\n",
       "      <td>0.21</td>\n",
       "      <td>2.26</td>\n",
       "      <td>13.94</td>\n",
       "    </tr>\n",
       "    <tr>\n",
       "      <th>3</th>\n",
       "      <td>Call of Duty: WWII</td>\n",
       "      <td>2017.0</td>\n",
       "      <td>Shooter</td>\n",
       "      <td>Activision</td>\n",
       "      <td>4.67</td>\n",
       "      <td>6.21</td>\n",
       "      <td>0.40</td>\n",
       "      <td>2.12</td>\n",
       "      <td>13.40</td>\n",
       "    </tr>\n",
       "    <tr>\n",
       "      <th>4</th>\n",
       "      <td>FIFA 18</td>\n",
       "      <td>2017.0</td>\n",
       "      <td>Sports</td>\n",
       "      <td>EA Sports</td>\n",
       "      <td>1.27</td>\n",
       "      <td>8.64</td>\n",
       "      <td>0.15</td>\n",
       "      <td>1.73</td>\n",
       "      <td>11.80</td>\n",
       "    </tr>\n",
       "  </tbody>\n",
       "</table>\n",
       "</div>"
      ],
      "text/plain": [
       "                        Game    Year             Genre       Publisher  \\\n",
       "0         Grand Theft Auto V  2014.0            Action  Rockstar Games   \n",
       "1  Call of Duty: Black Ops 3  2015.0           Shooter      Activision   \n",
       "2      Red Dead Redemption 2  2018.0  Action-Adventure  Rockstar Games   \n",
       "3         Call of Duty: WWII  2017.0           Shooter      Activision   \n",
       "4                    FIFA 18  2017.0            Sports       EA Sports   \n",
       "\n",
       "   North America  Europe  Japan  Rest of World  Global  \n",
       "0           6.06    9.71   0.60           3.02   19.39  \n",
       "1           6.18    6.05   0.41           2.44   15.09  \n",
       "2           5.26    6.21   0.21           2.26   13.94  \n",
       "3           4.67    6.21   0.40           2.12   13.40  \n",
       "4           1.27    8.64   0.15           1.73   11.80  "
      ]
     },
     "execution_count": 132,
     "metadata": {},
     "output_type": "execute_result"
    }
   ],
   "source": [
    "df.head()"
   ]
  },
  {
   "cell_type": "markdown",
   "id": "bd5ac1ba-d8fc-4ac1-a62a-a34c3d0603ef",
   "metadata": {},
   "source": [
    "### **Sorting Genre**"
   ]
  },
  {
   "cell_type": "code",
   "execution_count": 219,
   "id": "13985429-ff3c-4933-9952-304525123f78",
   "metadata": {},
   "outputs": [
    {
     "data": {
      "text/plain": [
       "17"
      ]
     },
     "execution_count": 219,
     "metadata": {},
     "output_type": "execute_result"
    }
   ],
   "source": [
    "df[\"Genre\"].nunique()"
   ]
  },
  {
   "cell_type": "code",
   "execution_count": 133,
   "id": "f481e33c-eaa9-4979-ab45-f88a3252d9f4",
   "metadata": {},
   "outputs": [
    {
     "data": {
      "text/plain": [
       "Action              205\n",
       "Role-Playing        107\n",
       "Shooter              75\n",
       "Adventure            71\n",
       "Sports               69\n",
       "Misc                 55\n",
       "Racing               48\n",
       "Action-Adventure     38\n",
       "Platform             33\n",
       "Fighting             32\n",
       "Strategy             25\n",
       "Simulation           21\n",
       "Music                18\n",
       "Puzzle               10\n",
       "MMO                   8\n",
       "Visual Novel          8\n",
       "Party                 2\n",
       "Name: Genre, dtype: int64"
      ]
     },
     "execution_count": 133,
     "metadata": {},
     "output_type": "execute_result"
    }
   ],
   "source": [
    "df[\"Genre\"].value_counts()"
   ]
  },
  {
   "cell_type": "markdown",
   "id": "0135375d-5da1-43f1-8dc0-0e3d51640ab7",
   "metadata": {},
   "source": [
    "### Action"
   ]
  },
  {
   "cell_type": "code",
   "execution_count": 134,
   "id": "d587a78a-3563-4885-911a-5e4e0e93b609",
   "metadata": {},
   "outputs": [
    {
     "data": {
      "text/html": [
       "<div>\n",
       "<style scoped>\n",
       "    .dataframe tbody tr th:only-of-type {\n",
       "        vertical-align: middle;\n",
       "    }\n",
       "\n",
       "    .dataframe tbody tr th {\n",
       "        vertical-align: top;\n",
       "    }\n",
       "\n",
       "    .dataframe thead th {\n",
       "        text-align: right;\n",
       "    }\n",
       "</style>\n",
       "<table border=\"1\" class=\"dataframe\">\n",
       "  <thead>\n",
       "    <tr style=\"text-align: right;\">\n",
       "      <th></th>\n",
       "      <th>Game</th>\n",
       "      <th>Year</th>\n",
       "      <th>Genre</th>\n",
       "      <th>Publisher</th>\n",
       "      <th>North America</th>\n",
       "      <th>Europe</th>\n",
       "      <th>Japan</th>\n",
       "      <th>Rest of World</th>\n",
       "      <th>Global</th>\n",
       "    </tr>\n",
       "  </thead>\n",
       "  <tbody>\n",
       "    <tr>\n",
       "      <th>0</th>\n",
       "      <td>Grand Theft Auto V</td>\n",
       "      <td>2014.0</td>\n",
       "      <td>Action</td>\n",
       "      <td>Rockstar Games</td>\n",
       "      <td>6.06</td>\n",
       "      <td>9.71</td>\n",
       "      <td>0.60</td>\n",
       "      <td>3.02</td>\n",
       "      <td>19.39</td>\n",
       "    </tr>\n",
       "    <tr>\n",
       "      <th>6</th>\n",
       "      <td>Uncharted (PS4)</td>\n",
       "      <td>2016.0</td>\n",
       "      <td>Action</td>\n",
       "      <td>Sony Interactive Entertainment</td>\n",
       "      <td>4.49</td>\n",
       "      <td>3.93</td>\n",
       "      <td>0.21</td>\n",
       "      <td>1.70</td>\n",
       "      <td>10.33</td>\n",
       "    </tr>\n",
       "    <tr>\n",
       "      <th>17</th>\n",
       "      <td>God of War (PS4)</td>\n",
       "      <td>2018.0</td>\n",
       "      <td>Action</td>\n",
       "      <td>Sony Interactive Entertainment</td>\n",
       "      <td>2.83</td>\n",
       "      <td>2.17</td>\n",
       "      <td>0.13</td>\n",
       "      <td>1.02</td>\n",
       "      <td>6.15</td>\n",
       "    </tr>\n",
       "    <tr>\n",
       "      <th>18</th>\n",
       "      <td>Horizon: Zero Dawn</td>\n",
       "      <td>2017.0</td>\n",
       "      <td>Action</td>\n",
       "      <td>Sony Interactive Entertainment</td>\n",
       "      <td>2.20</td>\n",
       "      <td>2.43</td>\n",
       "      <td>0.28</td>\n",
       "      <td>0.92</td>\n",
       "      <td>5.82</td>\n",
       "    </tr>\n",
       "    <tr>\n",
       "      <th>20</th>\n",
       "      <td>Uncharted: The Nathan Drake Collection</td>\n",
       "      <td>2015.0</td>\n",
       "      <td>Action</td>\n",
       "      <td>Sony Computer Entertainment</td>\n",
       "      <td>2.55</td>\n",
       "      <td>2.11</td>\n",
       "      <td>0.10</td>\n",
       "      <td>0.94</td>\n",
       "      <td>5.70</td>\n",
       "    </tr>\n",
       "  </tbody>\n",
       "</table>\n",
       "</div>"
      ],
      "text/plain": [
       "                                      Game    Year   Genre  \\\n",
       "0                       Grand Theft Auto V  2014.0  Action   \n",
       "6                          Uncharted (PS4)  2016.0  Action   \n",
       "17                        God of War (PS4)  2018.0  Action   \n",
       "18                      Horizon: Zero Dawn  2017.0  Action   \n",
       "20  Uncharted: The Nathan Drake Collection  2015.0  Action   \n",
       "\n",
       "                         Publisher  North America  Europe  Japan  \\\n",
       "0                   Rockstar Games           6.06    9.71   0.60   \n",
       "6   Sony Interactive Entertainment           4.49    3.93   0.21   \n",
       "17  Sony Interactive Entertainment           2.83    2.17   0.13   \n",
       "18  Sony Interactive Entertainment           2.20    2.43   0.28   \n",
       "20     Sony Computer Entertainment           2.55    2.11   0.10   \n",
       "\n",
       "    Rest of World  Global  \n",
       "0            3.02   19.39  \n",
       "6            1.70   10.33  \n",
       "17           1.02    6.15  \n",
       "18           0.92    5.82  \n",
       "20           0.94    5.70  "
      ]
     },
     "execution_count": 134,
     "metadata": {},
     "output_type": "execute_result"
    }
   ],
   "source": [
    "df[df[\"Genre\"] == \"Action\"].sort_values(\"Global\", ascending = False).head()"
   ]
  },
  {
   "cell_type": "code",
   "execution_count": 135,
   "id": "0d45d094-1612-4cdc-8a3f-88f244b473a7",
   "metadata": {},
   "outputs": [
    {
     "data": {
      "image/png": "[encoded data removed]",
      "text/plain": [
       "<Figure size 1080x576 with 1 Axes>"
      ]
     },
     "metadata": {
      "needs_background": "light"
     },
     "output_type": "display_data"
    }
   ],
   "source": [
    "plt.figure(figsize=(15,8))\n",
    "plt.bar(df[df[\"Genre\"] == \"Action\"].sort_values(\"Global\", ascending = False).head()[\"Game\"],df[df[\"Genre\"] == \"Action\"].sort_values(\"Global\", ascending = False).head()[\"Global\"])\n",
    "plt.title(\"Best Seller Action Genre in Global\")\n",
    "plt.show()"
   ]
  },
  {
   "cell_type": "code",
   "execution_count": 136,
   "id": "a5bea198-1d79-45b2-8e98-80ead99b72ed",
   "metadata": {},
   "outputs": [
    {
     "data": {
      "image/png": "[encoded data removed]",
      "text/plain": [
       "<Figure size 432x288 with 1 Axes>"
      ]
     },
     "metadata": {
      "needs_background": "light"
     },
     "output_type": "display_data"
    }
   ],
   "source": [
    "x = [\"Rockstar Games\", \"Sony Interactive Entertainment\"]\n",
    "y = [1,4]\n",
    "plt.figure(figsize=(6,4))\n",
    "plt.bar(x,y)\n",
    "plt.title(\"Best Seller Companies in Action Genre\")\n",
    "plt.show()"
   ]
  },
  {
   "cell_type": "code",
   "execution_count": 137,
   "id": "053d5c74-d3a4-40e4-806a-df49442f112a",
   "metadata": {
    "tags": []
   },
   "outputs": [
    {
     "data": {
      "image/png": "[encoded data removed]",
      "text/plain": [
       "<Figure size 432x288 with 1 Axes>"
      ]
     },
     "metadata": {},
     "output_type": "display_data"
    }
   ],
   "source": [
    "plt.pie(y, labels = x)\n",
    "plt.title(\"Best Seller Companies in Action Genre\")\n",
    "plt.show()"
   ]
  },
  {
   "cell_type": "code",
   "execution_count": 151,
   "id": "089629cc-b192-42db-9bc7-87fef002bdee",
   "metadata": {},
   "outputs": [
    {
     "data": {
      "image/png": "[encoded data removed]",
      "text/plain": [
       "<Figure size 432x288 with 1 Axes>"
      ]
     },
     "metadata": {
      "needs_background": "light"
     },
     "output_type": "display_data"
    }
   ],
   "source": [
    "x = [\"North America\", \"Europe\", \"Japan\", \"Rest of World\"]\n",
    "y = [6.06, 9.71, 0.60, 3.02]\n",
    "plt.figure(figsize=(6,4))\n",
    "plt.bar(x,y)\n",
    "plt.title(\"Playing GTA V in Stations\")\n",
    "plt.show()"
   ]
  },
  {
   "cell_type": "markdown",
   "id": "3d6ad3e6-355c-4865-affd-7b233bf0d02f",
   "metadata": {
    "jp-MarkdownHeadingCollapsed": true,
    "tags": []
   },
   "source": [
    "### **Note from datas:**\n",
    "* Sony Interactive Entertainment company is very populer and good in action genre.\n",
    "* But Sony Interactive Entertainment company couldnt the first order.\n",
    "* Sony Interactive Entertainment has 4 games best selling in 5 games.\n",
    "* Rockstar Games has 1 game best selling in 5 games but they are first order.\n",
    "* GTA V was playing mostly in Europe."
   ]
  },
  {
   "cell_type": "markdown",
   "id": "47d2f3f6-f13a-4f5b-b472-796610f63916",
   "metadata": {},
   "source": [
    "### Role-Playing"
   ]
  },
  {
   "cell_type": "code",
   "execution_count": 138,
   "id": "1e39cc98-e60d-46c5-9cb7-44769b14d90d",
   "metadata": {},
   "outputs": [
    {
     "data": {
      "text/html": [
       "<div>\n",
       "<style scoped>\n",
       "    .dataframe tbody tr th:only-of-type {\n",
       "        vertical-align: middle;\n",
       "    }\n",
       "\n",
       "    .dataframe tbody tr th {\n",
       "        vertical-align: top;\n",
       "    }\n",
       "\n",
       "    .dataframe thead th {\n",
       "        text-align: right;\n",
       "    }\n",
       "</style>\n",
       "<table border=\"1\" class=\"dataframe\">\n",
       "  <thead>\n",
       "    <tr style=\"text-align: right;\">\n",
       "      <th></th>\n",
       "      <th>Game</th>\n",
       "      <th>Year</th>\n",
       "      <th>Genre</th>\n",
       "      <th>Publisher</th>\n",
       "      <th>North America</th>\n",
       "      <th>Europe</th>\n",
       "      <th>Japan</th>\n",
       "      <th>Rest of World</th>\n",
       "      <th>Global</th>\n",
       "    </tr>\n",
       "  </thead>\n",
       "  <tbody>\n",
       "    <tr>\n",
       "      <th>9</th>\n",
       "      <td>Fallout 4</td>\n",
       "      <td>2015.0</td>\n",
       "      <td>Role-Playing</td>\n",
       "      <td>Bethesda Softworks</td>\n",
       "      <td>2.91</td>\n",
       "      <td>3.97</td>\n",
       "      <td>0.27</td>\n",
       "      <td>1.34</td>\n",
       "      <td>8.48</td>\n",
       "    </tr>\n",
       "    <tr>\n",
       "      <th>21</th>\n",
       "      <td>The Witcher 3: Wild Hunt</td>\n",
       "      <td>2015.0</td>\n",
       "      <td>Role-Playing</td>\n",
       "      <td>Namco Bandai Games</td>\n",
       "      <td>1.48</td>\n",
       "      <td>2.82</td>\n",
       "      <td>0.28</td>\n",
       "      <td>0.81</td>\n",
       "      <td>5.39</td>\n",
       "    </tr>\n",
       "    <tr>\n",
       "      <th>22</th>\n",
       "      <td>Final Fantasy XV</td>\n",
       "      <td>2016.0</td>\n",
       "      <td>Role-Playing</td>\n",
       "      <td>Square Enix</td>\n",
       "      <td>1.81</td>\n",
       "      <td>1.53</td>\n",
       "      <td>1.05</td>\n",
       "      <td>0.68</td>\n",
       "      <td>5.07</td>\n",
       "    </tr>\n",
       "    <tr>\n",
       "      <th>44</th>\n",
       "      <td>The Elder Scrolls V: Skyrim</td>\n",
       "      <td>2016.0</td>\n",
       "      <td>Role-Playing</td>\n",
       "      <td>Bethesda Softworks</td>\n",
       "      <td>1.24</td>\n",
       "      <td>1.50</td>\n",
       "      <td>0.08</td>\n",
       "      <td>0.54</td>\n",
       "      <td>3.36</td>\n",
       "    </tr>\n",
       "    <tr>\n",
       "      <th>53</th>\n",
       "      <td>Bloodborne</td>\n",
       "      <td>2015.0</td>\n",
       "      <td>Role-Playing</td>\n",
       "      <td>Sony Computer Entertainment</td>\n",
       "      <td>1.30</td>\n",
       "      <td>1.05</td>\n",
       "      <td>0.28</td>\n",
       "      <td>0.48</td>\n",
       "      <td>3.11</td>\n",
       "    </tr>\n",
       "  </tbody>\n",
       "</table>\n",
       "</div>"
      ],
      "text/plain": [
       "                           Game    Year         Genre  \\\n",
       "9                     Fallout 4  2015.0  Role-Playing   \n",
       "21     The Witcher 3: Wild Hunt  2015.0  Role-Playing   \n",
       "22             Final Fantasy XV  2016.0  Role-Playing   \n",
       "44  The Elder Scrolls V: Skyrim  2016.0  Role-Playing   \n",
       "53                   Bloodborne  2015.0  Role-Playing   \n",
       "\n",
       "                      Publisher  North America  Europe  Japan  Rest of World  \\\n",
       "9            Bethesda Softworks           2.91    3.97   0.27           1.34   \n",
       "21           Namco Bandai Games           1.48    2.82   0.28           0.81   \n",
       "22                  Square Enix           1.81    1.53   1.05           0.68   \n",
       "44           Bethesda Softworks           1.24    1.50   0.08           0.54   \n",
       "53  Sony Computer Entertainment           1.30    1.05   0.28           0.48   \n",
       "\n",
       "    Global  \n",
       "9     8.48  \n",
       "21    5.39  \n",
       "22    5.07  \n",
       "44    3.36  \n",
       "53    3.11  "
      ]
     },
     "execution_count": 138,
     "metadata": {},
     "output_type": "execute_result"
    }
   ],
   "source": [
    "df[df[\"Genre\"] == \"Role-Playing\"].sort_values(\"Global\", ascending = False).head()"
   ]
  },
  {
   "cell_type": "code",
   "execution_count": 139,
   "id": "1f495fe7-dbfd-44ca-8ede-00ed5a1ddf78",
   "metadata": {},
   "outputs": [
    {
     "data": {
      "image/png": "[encoded data removed]",
      "text/plain": [
       "<Figure size 1080x576 with 1 Axes>"
      ]
     },
     "metadata": {
      "needs_background": "light"
     },
     "output_type": "display_data"
    }
   ],
   "source": [
    "plt.figure(figsize=(15,8))\n",
    "plt.bar(df[df[\"Genre\"] == \"Role-Playing\"].sort_values(\"Global\", ascending = False).head()[\"Game\"],df[df[\"Genre\"] == \"Role-Playing\"].sort_values(\"Global\", ascending = False).head()[\"Global\"])\n",
    "plt.title(\"Best Seller Role-Playing Genre in Global\")\n",
    "plt.show()"
   ]
  },
  {
   "cell_type": "code",
   "execution_count": 150,
   "id": "cb7649a2-1ac3-4edb-bb64-6ab61aeb889a",
   "metadata": {},
   "outputs": [
    {
     "data": {
      "image/png": "[encoded data removed]",
      "text/plain": [
       "<Figure size 432x288 with 1 Axes>"
      ]
     },
     "metadata": {
      "needs_background": "light"
     },
     "output_type": "display_data"
    }
   ],
   "source": [
    "x = [\"North America\", \"Europe\", \"Japan\", \"Rest of World\"]\n",
    "y = [2.91, 3.97, 0.27, 1.34]\n",
    "plt.figure(figsize=(6,4))\n",
    "plt.bar(x,y)\n",
    "plt.title(\"Playing Fallout 4 in Stations\")\n",
    "plt.show()"
   ]
  },
  {
   "cell_type": "markdown",
   "id": "e8833958-cb30-4cbb-9061-53d841b8ca0d",
   "metadata": {},
   "source": [
    "### **Note from datas:**\n",
    "* There are different companies in Role Playing games.\n",
    "* Fallout 4 was playing mostly in Europe."
   ]
  },
  {
   "cell_type": "markdown",
   "id": "85a897cd-92ea-416b-9876-c88d32b57c29",
   "metadata": {},
   "source": [
    "### Shooter"
   ]
  },
  {
   "cell_type": "code",
   "execution_count": 140,
   "id": "fd29a6f9-65ed-4549-8c09-a404bba25669",
   "metadata": {},
   "outputs": [
    {
     "data": {
      "text/html": [
       "<div>\n",
       "<style scoped>\n",
       "    .dataframe tbody tr th:only-of-type {\n",
       "        vertical-align: middle;\n",
       "    }\n",
       "\n",
       "    .dataframe tbody tr th {\n",
       "        vertical-align: top;\n",
       "    }\n",
       "\n",
       "    .dataframe thead th {\n",
       "        text-align: right;\n",
       "    }\n",
       "</style>\n",
       "<table border=\"1\" class=\"dataframe\">\n",
       "  <thead>\n",
       "    <tr style=\"text-align: right;\">\n",
       "      <th></th>\n",
       "      <th>Game</th>\n",
       "      <th>Year</th>\n",
       "      <th>Genre</th>\n",
       "      <th>Publisher</th>\n",
       "      <th>North America</th>\n",
       "      <th>Europe</th>\n",
       "      <th>Japan</th>\n",
       "      <th>Rest of World</th>\n",
       "      <th>Global</th>\n",
       "    </tr>\n",
       "  </thead>\n",
       "  <tbody>\n",
       "    <tr>\n",
       "      <th>1</th>\n",
       "      <td>Call of Duty: Black Ops 3</td>\n",
       "      <td>2015.0</td>\n",
       "      <td>Shooter</td>\n",
       "      <td>Activision</td>\n",
       "      <td>6.18</td>\n",
       "      <td>6.05</td>\n",
       "      <td>0.41</td>\n",
       "      <td>2.44</td>\n",
       "      <td>15.09</td>\n",
       "    </tr>\n",
       "    <tr>\n",
       "      <th>3</th>\n",
       "      <td>Call of Duty: WWII</td>\n",
       "      <td>2017.0</td>\n",
       "      <td>Shooter</td>\n",
       "      <td>Activision</td>\n",
       "      <td>4.67</td>\n",
       "      <td>6.21</td>\n",
       "      <td>0.40</td>\n",
       "      <td>2.12</td>\n",
       "      <td>13.40</td>\n",
       "    </tr>\n",
       "    <tr>\n",
       "      <th>8</th>\n",
       "      <td>Call of Duty: Infinite Warfare</td>\n",
       "      <td>2016.0</td>\n",
       "      <td>Shooter</td>\n",
       "      <td>Activision</td>\n",
       "      <td>3.11</td>\n",
       "      <td>3.83</td>\n",
       "      <td>0.19</td>\n",
       "      <td>1.36</td>\n",
       "      <td>8.48</td>\n",
       "    </tr>\n",
       "    <tr>\n",
       "      <th>11</th>\n",
       "      <td>Star Wars Battlefront 2015</td>\n",
       "      <td>2015.0</td>\n",
       "      <td>Shooter</td>\n",
       "      <td>Electronic Arts</td>\n",
       "      <td>3.31</td>\n",
       "      <td>3.19</td>\n",
       "      <td>0.23</td>\n",
       "      <td>1.30</td>\n",
       "      <td>8.03</td>\n",
       "    </tr>\n",
       "    <tr>\n",
       "      <th>12</th>\n",
       "      <td>Call of Duty: Advanced Warfare</td>\n",
       "      <td>2014.0</td>\n",
       "      <td>Shooter</td>\n",
       "      <td>Activision</td>\n",
       "      <td>2.84</td>\n",
       "      <td>3.34</td>\n",
       "      <td>0.14</td>\n",
       "      <td>1.22</td>\n",
       "      <td>7.53</td>\n",
       "    </tr>\n",
       "  </tbody>\n",
       "</table>\n",
       "</div>"
      ],
      "text/plain": [
       "                              Game    Year    Genre        Publisher  \\\n",
       "1        Call of Duty: Black Ops 3  2015.0  Shooter       Activision   \n",
       "3               Call of Duty: WWII  2017.0  Shooter       Activision   \n",
       "8   Call of Duty: Infinite Warfare  2016.0  Shooter       Activision   \n",
       "11      Star Wars Battlefront 2015  2015.0  Shooter  Electronic Arts   \n",
       "12  Call of Duty: Advanced Warfare  2014.0  Shooter       Activision   \n",
       "\n",
       "    North America  Europe  Japan  Rest of World  Global  \n",
       "1            6.18    6.05   0.41           2.44   15.09  \n",
       "3            4.67    6.21   0.40           2.12   13.40  \n",
       "8            3.11    3.83   0.19           1.36    8.48  \n",
       "11           3.31    3.19   0.23           1.30    8.03  \n",
       "12           2.84    3.34   0.14           1.22    7.53  "
      ]
     },
     "execution_count": 140,
     "metadata": {},
     "output_type": "execute_result"
    }
   ],
   "source": [
    "df[df[\"Genre\"] == \"Shooter\"].sort_values(\"Global\", ascending = False).head()"
   ]
  },
  {
   "cell_type": "code",
   "execution_count": 141,
   "id": "29daaea8-65b7-4e3d-a36c-a632b0eddca5",
   "metadata": {},
   "outputs": [
    {
     "data": {
      "image/png": "[encoded data removed]",
      "text/plain": [
       "<Figure size 1080x576 with 1 Axes>"
      ]
     },
     "metadata": {
      "needs_background": "light"
     },
     "output_type": "display_data"
    }
   ],
   "source": [
    "plt.figure(figsize=(15,8))\n",
    "plt.bar(df[df[\"Genre\"] == \"Shooter\"].sort_values(\"Global\", ascending = False).head()[\"Game\"],df[df[\"Genre\"] == \"Shooter\"].sort_values(\"Global\", ascending = False).head()[\"Global\"])\n",
    "plt.title(\"Best Seller Shooter Genre in Global\")\n",
    "plt.show()"
   ]
  },
  {
   "cell_type": "code",
   "execution_count": 142,
   "id": "a3f988b8-0426-4405-838c-e711c36c1bcb",
   "metadata": {},
   "outputs": [
    {
     "data": {
      "image/png": "[encoded data removed]",
      "text/plain": [
       "<Figure size 432x288 with 1 Axes>"
      ]
     },
     "metadata": {
      "needs_background": "light"
     },
     "output_type": "display_data"
    }
   ],
   "source": [
    "x = [\"Electronic Arts\", \"Activision\"]\n",
    "y = [1,4]\n",
    "plt.figure(figsize=(6,4))\n",
    "plt.bar(x,y)\n",
    "plt.title(\"Best Seller Companies in Shooter Genre\")\n",
    "plt.show()"
   ]
  },
  {
   "cell_type": "code",
   "execution_count": 143,
   "id": "c0b5108a-635b-4abf-8b15-523a9512e5b7",
   "metadata": {},
   "outputs": [
    {
     "data": {
      "image/png": "[encoded data removed]",
      "text/plain": [
       "<Figure size 432x288 with 1 Axes>"
      ]
     },
     "metadata": {},
     "output_type": "display_data"
    }
   ],
   "source": [
    "plt.pie(y, labels = x)\n",
    "plt.title(\"Best Seller Companies in Shooter Genre\")\n",
    "plt.show()"
   ]
  },
  {
   "cell_type": "code",
   "execution_count": 152,
   "id": "0ef745ee-0d0c-480e-835b-a4115abcf6ca",
   "metadata": {},
   "outputs": [
    {
     "data": {
      "image/png": "[encoded data removed]",
      "text/plain": [
       "<Figure size 432x288 with 1 Axes>"
      ]
     },
     "metadata": {
      "needs_background": "light"
     },
     "output_type": "display_data"
    }
   ],
   "source": [
    "x = [\"North America\", \"Europe\", \"Japan\", \"Rest of World\"]\n",
    "y = [6.18, 6.05, 0.41, 2.44]\n",
    "plt.figure(figsize=(6,4))\n",
    "plt.bar(x,y)\n",
    "plt.title(\"Playing Call of Duty: Black Ops 3 in Stations\")\n",
    "plt.show()"
   ]
  },
  {
   "cell_type": "markdown",
   "id": "e5226c61-af9a-4a48-b77b-247665cdb1c8",
   "metadata": {
    "tags": []
   },
   "source": [
    "### **Note from datas:**\n",
    "* Activision company is very populer and good in shooter genre.\n",
    "* Activision company has 4 games best selling in 5 games.\n",
    "* Electronic Arts has 1 game best selling in 5 games.\n",
    "* Call of Duty: Black Ops 3 was playing mostly in North America."
   ]
  },
  {
   "cell_type": "code",
   "execution_count": 144,
   "id": "6ef5caf6-e3f4-46fc-8010-7e99e85f75cb",
   "metadata": {},
   "outputs": [
    {
     "data": {
      "text/html": [
       "<div>\n",
       "<style scoped>\n",
       "    .dataframe tbody tr th:only-of-type {\n",
       "        vertical-align: middle;\n",
       "    }\n",
       "\n",
       "    .dataframe tbody tr th {\n",
       "        vertical-align: top;\n",
       "    }\n",
       "\n",
       "    .dataframe thead th {\n",
       "        text-align: right;\n",
       "    }\n",
       "</style>\n",
       "<table border=\"1\" class=\"dataframe\">\n",
       "  <thead>\n",
       "    <tr style=\"text-align: right;\">\n",
       "      <th></th>\n",
       "      <th>Game</th>\n",
       "      <th>Year</th>\n",
       "      <th>Genre</th>\n",
       "      <th>Publisher</th>\n",
       "      <th>North America</th>\n",
       "      <th>Europe</th>\n",
       "      <th>Japan</th>\n",
       "      <th>Rest of World</th>\n",
       "      <th>Global</th>\n",
       "    </tr>\n",
       "  </thead>\n",
       "  <tbody>\n",
       "    <tr>\n",
       "      <th>0</th>\n",
       "      <td>Grand Theft Auto V</td>\n",
       "      <td>2014.0</td>\n",
       "      <td>Action</td>\n",
       "      <td>Rockstar Games</td>\n",
       "      <td>6.06</td>\n",
       "      <td>9.71</td>\n",
       "      <td>0.60</td>\n",
       "      <td>3.02</td>\n",
       "      <td>19.39</td>\n",
       "    </tr>\n",
       "    <tr>\n",
       "      <th>1</th>\n",
       "      <td>Call of Duty: Black Ops 3</td>\n",
       "      <td>2015.0</td>\n",
       "      <td>Shooter</td>\n",
       "      <td>Activision</td>\n",
       "      <td>6.18</td>\n",
       "      <td>6.05</td>\n",
       "      <td>0.41</td>\n",
       "      <td>2.44</td>\n",
       "      <td>15.09</td>\n",
       "    </tr>\n",
       "    <tr>\n",
       "      <th>2</th>\n",
       "      <td>Red Dead Redemption 2</td>\n",
       "      <td>2018.0</td>\n",
       "      <td>Action-Adventure</td>\n",
       "      <td>Rockstar Games</td>\n",
       "      <td>5.26</td>\n",
       "      <td>6.21</td>\n",
       "      <td>0.21</td>\n",
       "      <td>2.26</td>\n",
       "      <td>13.94</td>\n",
       "    </tr>\n",
       "    <tr>\n",
       "      <th>3</th>\n",
       "      <td>Call of Duty: WWII</td>\n",
       "      <td>2017.0</td>\n",
       "      <td>Shooter</td>\n",
       "      <td>Activision</td>\n",
       "      <td>4.67</td>\n",
       "      <td>6.21</td>\n",
       "      <td>0.40</td>\n",
       "      <td>2.12</td>\n",
       "      <td>13.40</td>\n",
       "    </tr>\n",
       "    <tr>\n",
       "      <th>4</th>\n",
       "      <td>FIFA 18</td>\n",
       "      <td>2017.0</td>\n",
       "      <td>Sports</td>\n",
       "      <td>EA Sports</td>\n",
       "      <td>1.27</td>\n",
       "      <td>8.64</td>\n",
       "      <td>0.15</td>\n",
       "      <td>1.73</td>\n",
       "      <td>11.80</td>\n",
       "    </tr>\n",
       "    <tr>\n",
       "      <th>...</th>\n",
       "      <td>...</td>\n",
       "      <td>...</td>\n",
       "      <td>...</td>\n",
       "      <td>...</td>\n",
       "      <td>...</td>\n",
       "      <td>...</td>\n",
       "      <td>...</td>\n",
       "      <td>...</td>\n",
       "      <td>...</td>\n",
       "    </tr>\n",
       "    <tr>\n",
       "      <th>1025</th>\n",
       "      <td>Biomutant</td>\n",
       "      <td>2019.0</td>\n",
       "      <td>Action</td>\n",
       "      <td>THQ Nordic</td>\n",
       "      <td>0.00</td>\n",
       "      <td>0.00</td>\n",
       "      <td>0.00</td>\n",
       "      <td>0.00</td>\n",
       "      <td>0.00</td>\n",
       "    </tr>\n",
       "    <tr>\n",
       "      <th>1026</th>\n",
       "      <td>de Blob</td>\n",
       "      <td>2017.0</td>\n",
       "      <td>Platform</td>\n",
       "      <td>THQ Nordic</td>\n",
       "      <td>0.00</td>\n",
       "      <td>0.00</td>\n",
       "      <td>0.00</td>\n",
       "      <td>0.00</td>\n",
       "      <td>0.00</td>\n",
       "    </tr>\n",
       "    <tr>\n",
       "      <th>1027</th>\n",
       "      <td>Chaos on Deponia</td>\n",
       "      <td>2017.0</td>\n",
       "      <td>Adventure</td>\n",
       "      <td>Daedalic Entertainment</td>\n",
       "      <td>0.00</td>\n",
       "      <td>0.00</td>\n",
       "      <td>0.00</td>\n",
       "      <td>0.00</td>\n",
       "      <td>0.00</td>\n",
       "    </tr>\n",
       "    <tr>\n",
       "      <th>1028</th>\n",
       "      <td>Code Vein</td>\n",
       "      <td>2018.0</td>\n",
       "      <td>Action</td>\n",
       "      <td>Bandai Namco Entertainment</td>\n",
       "      <td>0.00</td>\n",
       "      <td>0.00</td>\n",
       "      <td>0.00</td>\n",
       "      <td>0.00</td>\n",
       "      <td>0.00</td>\n",
       "    </tr>\n",
       "    <tr>\n",
       "      <th>1030</th>\n",
       "      <td>Radial G Racing Revolved</td>\n",
       "      <td>2017.0</td>\n",
       "      <td>Racing</td>\n",
       "      <td>Tammeka Games</td>\n",
       "      <td>0.00</td>\n",
       "      <td>0.00</td>\n",
       "      <td>0.00</td>\n",
       "      <td>0.00</td>\n",
       "      <td>0.00</td>\n",
       "    </tr>\n",
       "  </tbody>\n",
       "</table>\n",
       "<p>825 rows × 9 columns</p>\n",
       "</div>"
      ],
      "text/plain": [
       "                           Game    Year             Genre  \\\n",
       "0            Grand Theft Auto V  2014.0            Action   \n",
       "1     Call of Duty: Black Ops 3  2015.0           Shooter   \n",
       "2         Red Dead Redemption 2  2018.0  Action-Adventure   \n",
       "3            Call of Duty: WWII  2017.0           Shooter   \n",
       "4                       FIFA 18  2017.0            Sports   \n",
       "...                         ...     ...               ...   \n",
       "1025                  Biomutant  2019.0            Action   \n",
       "1026                    de Blob  2017.0          Platform   \n",
       "1027           Chaos on Deponia  2017.0         Adventure   \n",
       "1028                  Code Vein  2018.0            Action   \n",
       "1030   Radial G Racing Revolved  2017.0            Racing   \n",
       "\n",
       "                       Publisher  North America  Europe  Japan  Rest of World  \\\n",
       "0                 Rockstar Games           6.06    9.71   0.60           3.02   \n",
       "1                     Activision           6.18    6.05   0.41           2.44   \n",
       "2                 Rockstar Games           5.26    6.21   0.21           2.26   \n",
       "3                     Activision           4.67    6.21   0.40           2.12   \n",
       "4                      EA Sports           1.27    8.64   0.15           1.73   \n",
       "...                          ...            ...     ...    ...            ...   \n",
       "1025                  THQ Nordic           0.00    0.00   0.00           0.00   \n",
       "1026                  THQ Nordic           0.00    0.00   0.00           0.00   \n",
       "1027      Daedalic Entertainment           0.00    0.00   0.00           0.00   \n",
       "1028  Bandai Namco Entertainment           0.00    0.00   0.00           0.00   \n",
       "1030               Tammeka Games           0.00    0.00   0.00           0.00   \n",
       "\n",
       "      Global  \n",
       "0      19.39  \n",
       "1      15.09  \n",
       "2      13.94  \n",
       "3      13.40  \n",
       "4      11.80  \n",
       "...      ...  \n",
       "1025    0.00  \n",
       "1026    0.00  \n",
       "1027    0.00  \n",
       "1028    0.00  \n",
       "1030    0.00  \n",
       "\n",
       "[825 rows x 9 columns]"
      ]
     },
     "execution_count": 144,
     "metadata": {},
     "output_type": "execute_result"
    }
   ],
   "source": [
    "df"
   ]
  },
  {
   "cell_type": "markdown",
   "id": "e17d73ab-1b47-4dc5-9451-a31d29001273",
   "metadata": {},
   "source": [
    "### Publisher"
   ]
  },
  {
   "cell_type": "code",
   "execution_count": 145,
   "id": "2627b75d-7bbb-4436-888a-f28f29347fda",
   "metadata": {},
   "outputs": [
    {
     "data": {
      "text/plain": [
       "Namco Bandai Games                56\n",
       "Sony Interactive Entertainment    47\n",
       "Ubisoft                           45\n",
       "Square Enix                       40\n",
       "Tecmo Koei                        37\n",
       "Name: Publisher, dtype: int64"
      ]
     },
     "execution_count": 145,
     "metadata": {},
     "output_type": "execute_result"
    }
   ],
   "source": [
    "df[\"Publisher\"].value_counts().sort_values(ascending = False).head()"
   ]
  },
  {
   "cell_type": "code",
   "execution_count": 146,
   "id": "f5e60cb5-21aa-4800-86de-5804b3a9870c",
   "metadata": {},
   "outputs": [
    {
     "data": {
      "image/png": "[encoded data removed]",
      "text/plain": [
       "<Figure size 1080x432 with 1 Axes>"
      ]
     },
     "metadata": {
      "needs_background": "light"
     },
     "output_type": "display_data"
    }
   ],
   "source": [
    "x = [\"Namco Bandai Games\", \"Sony Interactive Entertainment\",\"Ubisoft\", \"Square Enix\", \"Tecmo Koei\"]\n",
    "y = [56,47,45,40,37]\n",
    "plt.figure(figsize=(15,6))\n",
    "plt.bar(x,y)\n",
    "plt.title(\"Most Publisher Games Companies\")\n",
    "plt.show()"
   ]
  },
  {
   "cell_type": "markdown",
   "id": "28d9653e-c4e0-4cdd-aa49-e31ec7e209c3",
   "metadata": {},
   "source": [
    "### **Note:**\n",
    "* We can say that, not too much important to publish most games.\n",
    "* For example Activision is not the most publisher games company but it is very successful company, datas say that."
   ]
  },
  {
   "cell_type": "markdown",
   "id": "a6e78826-5a2c-4af1-8582-dcfd43cc81f4",
   "metadata": {},
   "source": [
    "### Japan"
   ]
  },
  {
   "cell_type": "code",
   "execution_count": 147,
   "id": "75b28cc4-6023-4a61-8127-f8524a3de6ba",
   "metadata": {},
   "outputs": [
    {
     "data": {
      "text/html": [
       "<div>\n",
       "<style scoped>\n",
       "    .dataframe tbody tr th:only-of-type {\n",
       "        vertical-align: middle;\n",
       "    }\n",
       "\n",
       "    .dataframe tbody tr th {\n",
       "        vertical-align: top;\n",
       "    }\n",
       "\n",
       "    .dataframe thead th {\n",
       "        text-align: right;\n",
       "    }\n",
       "</style>\n",
       "<table border=\"1\" class=\"dataframe\">\n",
       "  <thead>\n",
       "    <tr style=\"text-align: right;\">\n",
       "      <th></th>\n",
       "      <th>Game</th>\n",
       "      <th>Year</th>\n",
       "      <th>Genre</th>\n",
       "      <th>Publisher</th>\n",
       "      <th>North America</th>\n",
       "      <th>Europe</th>\n",
       "      <th>Japan</th>\n",
       "      <th>Rest of World</th>\n",
       "      <th>Global</th>\n",
       "    </tr>\n",
       "  </thead>\n",
       "  <tbody>\n",
       "    <tr>\n",
       "      <th>24</th>\n",
       "      <td>Monster Hunter: World</td>\n",
       "      <td>2018.0</td>\n",
       "      <td>Action</td>\n",
       "      <td>Capcom</td>\n",
       "      <td>1.03</td>\n",
       "      <td>1.06</td>\n",
       "      <td>2.17</td>\n",
       "      <td>0.42</td>\n",
       "      <td>4.67</td>\n",
       "    </tr>\n",
       "    <tr>\n",
       "      <th>81</th>\n",
       "      <td>Dragon Quest XI</td>\n",
       "      <td>2017.0</td>\n",
       "      <td>Role-Playing</td>\n",
       "      <td>Square Enix</td>\n",
       "      <td>0.29</td>\n",
       "      <td>0.22</td>\n",
       "      <td>1.43</td>\n",
       "      <td>0.10</td>\n",
       "      <td>2.04</td>\n",
       "    </tr>\n",
       "    <tr>\n",
       "      <th>22</th>\n",
       "      <td>Final Fantasy XV</td>\n",
       "      <td>2016.0</td>\n",
       "      <td>Role-Playing</td>\n",
       "      <td>Square Enix</td>\n",
       "      <td>1.81</td>\n",
       "      <td>1.53</td>\n",
       "      <td>1.05</td>\n",
       "      <td>0.68</td>\n",
       "      <td>5.07</td>\n",
       "    </tr>\n",
       "    <tr>\n",
       "      <th>0</th>\n",
       "      <td>Grand Theft Auto V</td>\n",
       "      <td>2014.0</td>\n",
       "      <td>Action</td>\n",
       "      <td>Rockstar Games</td>\n",
       "      <td>6.06</td>\n",
       "      <td>9.71</td>\n",
       "      <td>0.60</td>\n",
       "      <td>3.02</td>\n",
       "      <td>19.39</td>\n",
       "    </tr>\n",
       "    <tr>\n",
       "      <th>54</th>\n",
       "      <td>Metal Gear Solid V: The Phantom Pain</td>\n",
       "      <td>2015.0</td>\n",
       "      <td>Action</td>\n",
       "      <td>Konami Digital Entertainment</td>\n",
       "      <td>0.97</td>\n",
       "      <td>1.15</td>\n",
       "      <td>0.50</td>\n",
       "      <td>0.42</td>\n",
       "      <td>3.04</td>\n",
       "    </tr>\n",
       "  </tbody>\n",
       "</table>\n",
       "</div>"
      ],
      "text/plain": [
       "                                    Game    Year         Genre  \\\n",
       "24                 Monster Hunter: World  2018.0        Action   \n",
       "81                       Dragon Quest XI  2017.0  Role-Playing   \n",
       "22                      Final Fantasy XV  2016.0  Role-Playing   \n",
       "0                     Grand Theft Auto V  2014.0        Action   \n",
       "54  Metal Gear Solid V: The Phantom Pain  2015.0        Action   \n",
       "\n",
       "                       Publisher  North America  Europe  Japan  Rest of World  \\\n",
       "24                        Capcom           1.03    1.06   2.17           0.42   \n",
       "81                   Square Enix           0.29    0.22   1.43           0.10   \n",
       "22                   Square Enix           1.81    1.53   1.05           0.68   \n",
       "0                 Rockstar Games           6.06    9.71   0.60           3.02   \n",
       "54  Konami Digital Entertainment           0.97    1.15   0.50           0.42   \n",
       "\n",
       "    Global  \n",
       "24    4.67  \n",
       "81    2.04  \n",
       "22    5.07  \n",
       "0    19.39  \n",
       "54    3.04  "
      ]
     },
     "execution_count": 147,
     "metadata": {},
     "output_type": "execute_result"
    }
   ],
   "source": [
    "df.sort_values(\"Japan\", ascending = False).head()"
   ]
  },
  {
   "cell_type": "markdown",
   "id": "4b67f3c3-ab90-40db-9e10-3bdfa328f849",
   "metadata": {},
   "source": [
    "### **Note:**\n",
    "* Interesting is that, Japanese people does not buy populer video games like Call of Duty, Red Dead Redemption 2 or FIFA 18.\n",
    "* That is ver useful info.\n",
    "* Japanese people plays mostly Action and Role-Playing genres."
   ]
  },
  {
   "cell_type": "markdown",
   "id": "5cdab575-b0c0-4646-b43d-f7b758e62aab",
   "metadata": {},
   "source": [
    "## **Areas**"
   ]
  },
  {
   "cell_type": "code",
   "execution_count": 161,
   "id": "5f188f26-e733-454c-8898-7d39355ae3c9",
   "metadata": {},
   "outputs": [
    {
     "data": {
      "text/html": [
       "<div>\n",
       "<style scoped>\n",
       "    .dataframe tbody tr th:only-of-type {\n",
       "        vertical-align: middle;\n",
       "    }\n",
       "\n",
       "    .dataframe tbody tr th {\n",
       "        vertical-align: top;\n",
       "    }\n",
       "\n",
       "    .dataframe thead th {\n",
       "        text-align: right;\n",
       "    }\n",
       "</style>\n",
       "<table border=\"1\" class=\"dataframe\">\n",
       "  <thead>\n",
       "    <tr style=\"text-align: right;\">\n",
       "      <th></th>\n",
       "      <th>count</th>\n",
       "      <th>mean</th>\n",
       "      <th>std</th>\n",
       "      <th>min</th>\n",
       "      <th>25%</th>\n",
       "      <th>50%</th>\n",
       "      <th>75%</th>\n",
       "      <th>max</th>\n",
       "    </tr>\n",
       "  </thead>\n",
       "  <tbody>\n",
       "    <tr>\n",
       "      <th>Year</th>\n",
       "      <td>825.0</td>\n",
       "      <td>2015.966061</td>\n",
       "      <td>1.298360</td>\n",
       "      <td>2013.0</td>\n",
       "      <td>2015.00</td>\n",
       "      <td>2016.00</td>\n",
       "      <td>2017.00</td>\n",
       "      <td>2020.00</td>\n",
       "    </tr>\n",
       "    <tr>\n",
       "      <th>North America</th>\n",
       "      <td>825.0</td>\n",
       "      <td>0.256448</td>\n",
       "      <td>0.620259</td>\n",
       "      <td>0.0</td>\n",
       "      <td>0.00</td>\n",
       "      <td>0.05</td>\n",
       "      <td>0.19</td>\n",
       "      <td>6.18</td>\n",
       "    </tr>\n",
       "    <tr>\n",
       "      <th>Europe</th>\n",
       "      <td>825.0</td>\n",
       "      <td>0.311600</td>\n",
       "      <td>0.868271</td>\n",
       "      <td>0.0</td>\n",
       "      <td>0.00</td>\n",
       "      <td>0.02</td>\n",
       "      <td>0.22</td>\n",
       "      <td>9.71</td>\n",
       "    </tr>\n",
       "    <tr>\n",
       "      <th>Japan</th>\n",
       "      <td>825.0</td>\n",
       "      <td>0.042048</td>\n",
       "      <td>0.119814</td>\n",
       "      <td>0.0</td>\n",
       "      <td>0.00</td>\n",
       "      <td>0.00</td>\n",
       "      <td>0.04</td>\n",
       "      <td>2.17</td>\n",
       "    </tr>\n",
       "    <tr>\n",
       "      <th>Rest of World</th>\n",
       "      <td>825.0</td>\n",
       "      <td>0.111552</td>\n",
       "      <td>0.274713</td>\n",
       "      <td>0.0</td>\n",
       "      <td>0.00</td>\n",
       "      <td>0.02</td>\n",
       "      <td>0.09</td>\n",
       "      <td>3.02</td>\n",
       "    </tr>\n",
       "    <tr>\n",
       "      <th>Global</th>\n",
       "      <td>825.0</td>\n",
       "      <td>0.721721</td>\n",
       "      <td>1.743122</td>\n",
       "      <td>0.0</td>\n",
       "      <td>0.03</td>\n",
       "      <td>0.12</td>\n",
       "      <td>0.56</td>\n",
       "      <td>19.39</td>\n",
       "    </tr>\n",
       "  </tbody>\n",
       "</table>\n",
       "</div>"
      ],
      "text/plain": [
       "               count         mean       std     min      25%      50%  \\\n",
       "Year           825.0  2015.966061  1.298360  2013.0  2015.00  2016.00   \n",
       "North America  825.0     0.256448  0.620259     0.0     0.00     0.05   \n",
       "Europe         825.0     0.311600  0.868271     0.0     0.00     0.02   \n",
       "Japan          825.0     0.042048  0.119814     0.0     0.00     0.00   \n",
       "Rest of World  825.0     0.111552  0.274713     0.0     0.00     0.02   \n",
       "Global         825.0     0.721721  1.743122     0.0     0.03     0.12   \n",
       "\n",
       "                   75%      max  \n",
       "Year           2017.00  2020.00  \n",
       "North America     0.19     6.18  \n",
       "Europe            0.22     9.71  \n",
       "Japan             0.04     2.17  \n",
       "Rest of World     0.09     3.02  \n",
       "Global            0.56    19.39  "
      ]
     },
     "execution_count": 161,
     "metadata": {},
     "output_type": "execute_result"
    }
   ],
   "source": [
    "df.describe().T"
   ]
  },
  {
   "cell_type": "markdown",
   "id": "cc12bb4a-c2ab-4061-9acb-2d3edcf568be",
   "metadata": {},
   "source": [
    "### **Note from datas:**\n",
    "* North America buying games mean is : 0.256448\n",
    "* Europe buying games mean is : 0.311600\n",
    "* Japan buying games mean is : 0.042048\n",
    "* Rest of World buying games is : 0.111552\n",
    "\n",
    "**We can say mostly Europe people buys games.**\n",
    "**Japanese people doesn't buy too many games.**"
   ]
  },
  {
   "cell_type": "code",
   "execution_count": 162,
   "id": "85deb06c-d1a9-43a4-aae4-7c33ca657616",
   "metadata": {},
   "outputs": [
    {
     "data": {
      "image/png": "[encoded data removed]",
      "text/plain": [
       "<Figure size 432x288 with 1 Axes>"
      ]
     },
     "metadata": {
      "needs_background": "light"
     },
     "output_type": "display_data"
    }
   ],
   "source": [
    "x = [\"North America\", \"Europe\", \"Japan\", \"Rest of World\"]\n",
    "y = [0.256448, 0.311600, 0.042048, 0.111552]\n",
    "plt.figure(figsize=(6,4))\n",
    "plt.bar(x,y)\n",
    "plt.title(\"Mostly Buying Games Areas\")\n",
    "plt.show()"
   ]
  },
  {
   "cell_type": "code",
   "execution_count": 174,
   "id": "24c81886-b3bc-4c66-bbb9-ab37730a0b40",
   "metadata": {},
   "outputs": [],
   "source": [
    "dff = df.copy()"
   ]
  },
  {
   "cell_type": "code",
   "execution_count": 175,
   "id": "4d98b0ae-c957-45aa-a2c7-6dabc6613cfa",
   "metadata": {},
   "outputs": [
    {
     "data": {
      "text/html": [
       "<div>\n",
       "<style scoped>\n",
       "    .dataframe tbody tr th:only-of-type {\n",
       "        vertical-align: middle;\n",
       "    }\n",
       "\n",
       "    .dataframe tbody tr th {\n",
       "        vertical-align: top;\n",
       "    }\n",
       "\n",
       "    .dataframe thead th {\n",
       "        text-align: right;\n",
       "    }\n",
       "</style>\n",
       "<table border=\"1\" class=\"dataframe\">\n",
       "  <thead>\n",
       "    <tr style=\"text-align: right;\">\n",
       "      <th></th>\n",
       "      <th>Game</th>\n",
       "      <th>Year</th>\n",
       "      <th>Genre</th>\n",
       "      <th>Publisher</th>\n",
       "      <th>North America</th>\n",
       "      <th>Europe</th>\n",
       "      <th>Japan</th>\n",
       "      <th>Rest of World</th>\n",
       "      <th>Global</th>\n",
       "    </tr>\n",
       "  </thead>\n",
       "  <tbody>\n",
       "    <tr>\n",
       "      <th>707</th>\n",
       "      <td>Hyper Light Drifter</td>\n",
       "      <td>2017.0</td>\n",
       "      <td>Role-Playing</td>\n",
       "      <td>Active Gaming Media</td>\n",
       "      <td>0.0</td>\n",
       "      <td>0.00</td>\n",
       "      <td>0.01</td>\n",
       "      <td>0.0</td>\n",
       "      <td>0.01</td>\n",
       "    </tr>\n",
       "    <tr>\n",
       "      <th>708</th>\n",
       "      <td>Teslagrad</td>\n",
       "      <td>2014.0</td>\n",
       "      <td>Platform</td>\n",
       "      <td>Rain Games</td>\n",
       "      <td>0.0</td>\n",
       "      <td>0.01</td>\n",
       "      <td>0.00</td>\n",
       "      <td>0.0</td>\n",
       "      <td>0.01</td>\n",
       "    </tr>\n",
       "    <tr>\n",
       "      <th>709</th>\n",
       "      <td>Darius Burst: Chronicle Saviours</td>\n",
       "      <td>2017.0</td>\n",
       "      <td>Action</td>\n",
       "      <td>Kadokawa Games</td>\n",
       "      <td>0.0</td>\n",
       "      <td>0.00</td>\n",
       "      <td>0.01</td>\n",
       "      <td>0.0</td>\n",
       "      <td>0.01</td>\n",
       "    </tr>\n",
       "    <tr>\n",
       "      <th>710</th>\n",
       "      <td>The Escapists: The Walking Dead</td>\n",
       "      <td>2016.0</td>\n",
       "      <td>Action</td>\n",
       "      <td>Team17 Software</td>\n",
       "      <td>0.0</td>\n",
       "      <td>0.00</td>\n",
       "      <td>0.00</td>\n",
       "      <td>0.0</td>\n",
       "      <td>0.01</td>\n",
       "    </tr>\n",
       "    <tr>\n",
       "      <th>711</th>\n",
       "      <td>Super Meat Boy</td>\n",
       "      <td>2016.0</td>\n",
       "      <td>Platform</td>\n",
       "      <td>Team Meat</td>\n",
       "      <td>0.0</td>\n",
       "      <td>0.00</td>\n",
       "      <td>0.00</td>\n",
       "      <td>0.0</td>\n",
       "      <td>0.01</td>\n",
       "    </tr>\n",
       "  </tbody>\n",
       "</table>\n",
       "</div>"
      ],
      "text/plain": [
       "                                 Game    Year         Genre  \\\n",
       "707               Hyper Light Drifter  2017.0  Role-Playing   \n",
       "708                         Teslagrad  2014.0      Platform   \n",
       "709  Darius Burst: Chronicle Saviours  2017.0        Action   \n",
       "710   The Escapists: The Walking Dead  2016.0        Action   \n",
       "711                    Super Meat Boy  2016.0      Platform   \n",
       "\n",
       "               Publisher  North America  Europe  Japan  Rest of World  Global  \n",
       "707  Active Gaming Media            0.0    0.00   0.01            0.0    0.01  \n",
       "708           Rain Games            0.0    0.01   0.00            0.0    0.01  \n",
       "709       Kadokawa Games            0.0    0.00   0.01            0.0    0.01  \n",
       "710      Team17 Software            0.0    0.00   0.00            0.0    0.01  \n",
       "711            Team Meat            0.0    0.00   0.00            0.0    0.01  "
      ]
     },
     "execution_count": 175,
     "metadata": {},
     "output_type": "execute_result"
    }
   ],
   "source": [
    "dff= dff[dff['Global'] != 0]  # We dont include 0.0 in Global\n",
    "dff.tail()"
   ]
  },
  {
   "cell_type": "markdown",
   "id": "16448fdd-72a6-4691-ab66-59e054b6d541",
   "metadata": {},
   "source": [
    "# **Machine Learning Algorithms - Time to Predict**"
   ]
  },
  {
   "cell_type": "markdown",
   "id": "58166e34-1401-465f-a602-0ef42969bde8",
   "metadata": {},
   "source": [
    "## **Linear Regression**"
   ]
  },
  {
   "cell_type": "code",
   "execution_count": 176,
   "id": "feca4f53-ce79-4714-a265-7e7408aa1b6c",
   "metadata": {},
   "outputs": [
    {
     "data": {
      "text/html": [
       "<div>\n",
       "<style scoped>\n",
       "    .dataframe tbody tr th:only-of-type {\n",
       "        vertical-align: middle;\n",
       "    }\n",
       "\n",
       "    .dataframe tbody tr th {\n",
       "        vertical-align: top;\n",
       "    }\n",
       "\n",
       "    .dataframe thead th {\n",
       "        text-align: right;\n",
       "    }\n",
       "</style>\n",
       "<table border=\"1\" class=\"dataframe\">\n",
       "  <thead>\n",
       "    <tr style=\"text-align: right;\">\n",
       "      <th></th>\n",
       "      <th>Game</th>\n",
       "      <th>Year</th>\n",
       "      <th>Genre</th>\n",
       "      <th>Publisher</th>\n",
       "      <th>North America</th>\n",
       "      <th>Europe</th>\n",
       "      <th>Japan</th>\n",
       "      <th>Rest of World</th>\n",
       "      <th>Global</th>\n",
       "    </tr>\n",
       "  </thead>\n",
       "  <tbody>\n",
       "    <tr>\n",
       "      <th>0</th>\n",
       "      <td>Grand Theft Auto V</td>\n",
       "      <td>2014.0</td>\n",
       "      <td>Action</td>\n",
       "      <td>Rockstar Games</td>\n",
       "      <td>6.06</td>\n",
       "      <td>9.71</td>\n",
       "      <td>0.60</td>\n",
       "      <td>3.02</td>\n",
       "      <td>19.39</td>\n",
       "    </tr>\n",
       "    <tr>\n",
       "      <th>1</th>\n",
       "      <td>Call of Duty: Black Ops 3</td>\n",
       "      <td>2015.0</td>\n",
       "      <td>Shooter</td>\n",
       "      <td>Activision</td>\n",
       "      <td>6.18</td>\n",
       "      <td>6.05</td>\n",
       "      <td>0.41</td>\n",
       "      <td>2.44</td>\n",
       "      <td>15.09</td>\n",
       "    </tr>\n",
       "    <tr>\n",
       "      <th>2</th>\n",
       "      <td>Red Dead Redemption 2</td>\n",
       "      <td>2018.0</td>\n",
       "      <td>Action-Adventure</td>\n",
       "      <td>Rockstar Games</td>\n",
       "      <td>5.26</td>\n",
       "      <td>6.21</td>\n",
       "      <td>0.21</td>\n",
       "      <td>2.26</td>\n",
       "      <td>13.94</td>\n",
       "    </tr>\n",
       "    <tr>\n",
       "      <th>3</th>\n",
       "      <td>Call of Duty: WWII</td>\n",
       "      <td>2017.0</td>\n",
       "      <td>Shooter</td>\n",
       "      <td>Activision</td>\n",
       "      <td>4.67</td>\n",
       "      <td>6.21</td>\n",
       "      <td>0.40</td>\n",
       "      <td>2.12</td>\n",
       "      <td>13.40</td>\n",
       "    </tr>\n",
       "    <tr>\n",
       "      <th>4</th>\n",
       "      <td>FIFA 18</td>\n",
       "      <td>2017.0</td>\n",
       "      <td>Sports</td>\n",
       "      <td>EA Sports</td>\n",
       "      <td>1.27</td>\n",
       "      <td>8.64</td>\n",
       "      <td>0.15</td>\n",
       "      <td>1.73</td>\n",
       "      <td>11.80</td>\n",
       "    </tr>\n",
       "    <tr>\n",
       "      <th>...</th>\n",
       "      <td>...</td>\n",
       "      <td>...</td>\n",
       "      <td>...</td>\n",
       "      <td>...</td>\n",
       "      <td>...</td>\n",
       "      <td>...</td>\n",
       "      <td>...</td>\n",
       "      <td>...</td>\n",
       "      <td>...</td>\n",
       "    </tr>\n",
       "    <tr>\n",
       "      <th>707</th>\n",
       "      <td>Hyper Light Drifter</td>\n",
       "      <td>2017.0</td>\n",
       "      <td>Role-Playing</td>\n",
       "      <td>Active Gaming Media</td>\n",
       "      <td>0.00</td>\n",
       "      <td>0.00</td>\n",
       "      <td>0.01</td>\n",
       "      <td>0.00</td>\n",
       "      <td>0.01</td>\n",
       "    </tr>\n",
       "    <tr>\n",
       "      <th>708</th>\n",
       "      <td>Teslagrad</td>\n",
       "      <td>2014.0</td>\n",
       "      <td>Platform</td>\n",
       "      <td>Rain Games</td>\n",
       "      <td>0.00</td>\n",
       "      <td>0.01</td>\n",
       "      <td>0.00</td>\n",
       "      <td>0.00</td>\n",
       "      <td>0.01</td>\n",
       "    </tr>\n",
       "    <tr>\n",
       "      <th>709</th>\n",
       "      <td>Darius Burst: Chronicle Saviours</td>\n",
       "      <td>2017.0</td>\n",
       "      <td>Action</td>\n",
       "      <td>Kadokawa Games</td>\n",
       "      <td>0.00</td>\n",
       "      <td>0.00</td>\n",
       "      <td>0.01</td>\n",
       "      <td>0.00</td>\n",
       "      <td>0.01</td>\n",
       "    </tr>\n",
       "    <tr>\n",
       "      <th>710</th>\n",
       "      <td>The Escapists: The Walking Dead</td>\n",
       "      <td>2016.0</td>\n",
       "      <td>Action</td>\n",
       "      <td>Team17 Software</td>\n",
       "      <td>0.00</td>\n",
       "      <td>0.00</td>\n",
       "      <td>0.00</td>\n",
       "      <td>0.00</td>\n",
       "      <td>0.01</td>\n",
       "    </tr>\n",
       "    <tr>\n",
       "      <th>711</th>\n",
       "      <td>Super Meat Boy</td>\n",
       "      <td>2016.0</td>\n",
       "      <td>Platform</td>\n",
       "      <td>Team Meat</td>\n",
       "      <td>0.00</td>\n",
       "      <td>0.00</td>\n",
       "      <td>0.00</td>\n",
       "      <td>0.00</td>\n",
       "      <td>0.01</td>\n",
       "    </tr>\n",
       "  </tbody>\n",
       "</table>\n",
       "<p>709 rows × 9 columns</p>\n",
       "</div>"
      ],
      "text/plain": [
       "                                 Game    Year             Genre  \\\n",
       "0                  Grand Theft Auto V  2014.0            Action   \n",
       "1           Call of Duty: Black Ops 3  2015.0           Shooter   \n",
       "2               Red Dead Redemption 2  2018.0  Action-Adventure   \n",
       "3                  Call of Duty: WWII  2017.0           Shooter   \n",
       "4                             FIFA 18  2017.0            Sports   \n",
       "..                                ...     ...               ...   \n",
       "707               Hyper Light Drifter  2017.0      Role-Playing   \n",
       "708                         Teslagrad  2014.0          Platform   \n",
       "709  Darius Burst: Chronicle Saviours  2017.0            Action   \n",
       "710   The Escapists: The Walking Dead  2016.0            Action   \n",
       "711                    Super Meat Boy  2016.0          Platform   \n",
       "\n",
       "               Publisher  North America  Europe  Japan  Rest of World  Global  \n",
       "0         Rockstar Games           6.06    9.71   0.60           3.02   19.39  \n",
       "1             Activision           6.18    6.05   0.41           2.44   15.09  \n",
       "2         Rockstar Games           5.26    6.21   0.21           2.26   13.94  \n",
       "3             Activision           4.67    6.21   0.40           2.12   13.40  \n",
       "4              EA Sports           1.27    8.64   0.15           1.73   11.80  \n",
       "..                   ...            ...     ...    ...            ...     ...  \n",
       "707  Active Gaming Media           0.00    0.00   0.01           0.00    0.01  \n",
       "708           Rain Games           0.00    0.01   0.00           0.00    0.01  \n",
       "709       Kadokawa Games           0.00    0.00   0.01           0.00    0.01  \n",
       "710      Team17 Software           0.00    0.00   0.00           0.00    0.01  \n",
       "711            Team Meat           0.00    0.00   0.00           0.00    0.01  \n",
       "\n",
       "[709 rows x 9 columns]"
      ]
     },
     "execution_count": 176,
     "metadata": {},
     "output_type": "execute_result"
    }
   ],
   "source": [
    "dff"
   ]
  },
  {
   "cell_type": "markdown",
   "id": "2e1af1a9-9392-4cb6-94f7-7ef94b0ec363",
   "metadata": {},
   "source": [
    "## North America"
   ]
  },
  {
   "cell_type": "code",
   "execution_count": 190,
   "id": "66d2b119-670b-49ef-8b45-efc05d58af0f",
   "metadata": {},
   "outputs": [],
   "source": [
    "X = dff.iloc[:, 4:5].values\n",
    "y = dff.iloc[:, -1].values"
   ]
  },
  {
   "cell_type": "code",
   "execution_count": 191,
   "id": "91f3ceae-29c3-4bcb-a752-26a4ba5f40bf",
   "metadata": {},
   "outputs": [],
   "source": [
    "from sklearn.model_selection import train_test_split\n",
    "X_train, X_test, y_train, y_test = train_test_split(X, y, test_size = 0.20, random_state = 42)"
   ]
  },
  {
   "cell_type": "code",
   "execution_count": 192,
   "id": "4e7b0364-fcd9-4b8b-abe3-8e6d97b81f5c",
   "metadata": {},
   "outputs": [],
   "source": [
    "from sklearn.linear_model import LinearRegression\n",
    "reg = LinearRegression()\n",
    "model = reg.fit(X_train, y_train)"
   ]
  },
  {
   "cell_type": "code",
   "execution_count": 193,
   "id": "8547721c-941e-4481-8ef5-42f88a7f6307",
   "metadata": {},
   "outputs": [],
   "source": [
    "y_pred = model.predict(X_test)"
   ]
  },
  {
   "cell_type": "code",
   "execution_count": 194,
   "id": "75bd38b0-1f62-480d-9b9e-9f5a1e27010c",
   "metadata": {},
   "outputs": [
    {
     "name": "stdout",
     "output_type": "stream",
     "text": [
      "R2 Score is:  0.8628896648809483\n"
     ]
    }
   ],
   "source": [
    "from sklearn.metrics import confusion_matrix, r2_score\n",
    "print(\"R2 Score is: \", r2_score(y_test, y_pred))"
   ]
  },
  {
   "cell_type": "code",
   "execution_count": 201,
   "id": "db34af36-8931-43b8-9bc8-c2ff838517a7",
   "metadata": {},
   "outputs": [
    {
     "data": {
      "image/png": "[encoded data removed]",
      "text/plain": [
       "<Figure size 432x864 with 1 Axes>"
      ]
     },
     "metadata": {
      "needs_background": "light"
     },
     "output_type": "display_data"
    }
   ],
   "source": [
    "plt.figure(figsize=(6,12))\n",
    "\n",
    "plt.subplot(2, 1, 1)\n",
    "plt.scatter(x=y_test, y=y_pred, c=\"#3da4ab\", alpha=0.2)\n",
    "\n",
    "a = np.polyfit(y_test, y_pred, 1)\n",
    "plt.plot(y_test,(y_test),\"#851e3e\")\n",
    "plt.xlabel('Correct Values')\n",
    "plt.ylabel('Predicted')\n",
    "plt.show()"
   ]
  },
  {
   "cell_type": "markdown",
   "id": "2051c27e-b626-49a4-b497-45a8dabe5b3c",
   "metadata": {},
   "source": [
    "## Europe"
   ]
  },
  {
   "cell_type": "code",
   "execution_count": 202,
   "id": "771c8c0d-e415-453f-ade4-edc926cffa9d",
   "metadata": {},
   "outputs": [],
   "source": [
    "X = dff.iloc[:, 5:6].values\n",
    "y = dff.iloc[:, -1].values\n",
    "\n",
    "X_train, X_test, y_train, y_test = train_test_split(X, y, test_size = 0.20, random_state = 42)\n",
    "\n",
    "reg = LinearRegression()\n",
    "model = reg.fit(X_train, y_train)\n",
    "\n",
    "y_pred = model.predict(X_test)"
   ]
  },
  {
   "cell_type": "code",
   "execution_count": 203,
   "id": "887a7d11-1a1b-4936-bbda-85d4e6c49314",
   "metadata": {},
   "outputs": [
    {
     "name": "stdout",
     "output_type": "stream",
     "text": [
      "R2 Score is:  0.9035521623822755\n"
     ]
    }
   ],
   "source": [
    "print(\"R2 Score is: \", r2_score(y_test, y_pred))"
   ]
  },
  {
   "cell_type": "code",
   "execution_count": 204,
   "id": "ed77ac56-2806-4739-8fc5-839c1a3364ea",
   "metadata": {},
   "outputs": [
    {
     "data": {
      "image/png": "[encoded data removed]",
      "text/plain": [
       "<Figure size 432x864 with 1 Axes>"
      ]
     },
     "metadata": {
      "needs_background": "light"
     },
     "output_type": "display_data"
    }
   ],
   "source": [
    "plt.figure(figsize=(6,12))\n",
    "\n",
    "plt.subplot(2, 1, 1)\n",
    "plt.scatter(x=y_test, y=y_pred, c=\"#3da4ab\", alpha=0.2)\n",
    "\n",
    "a = np.polyfit(y_test, y_pred, 1)\n",
    "plt.plot(y_test,(y_test),\"#851e3e\")\n",
    "plt.xlabel('Correct Values')\n",
    "plt.ylabel('Predicted')\n",
    "plt.show()"
   ]
  },
  {
   "cell_type": "markdown",
   "id": "b9d78c2c-39f4-46eb-ba4f-de36e2b190a7",
   "metadata": {},
   "source": [
    "## Japan"
   ]
  },
  {
   "cell_type": "code",
   "execution_count": 205,
   "id": "b9653454-5387-476f-95f8-af329f03cbeb",
   "metadata": {},
   "outputs": [],
   "source": [
    "X = dff.iloc[:, 6:7].values\n",
    "y = dff.iloc[:, -1].values\n",
    "\n",
    "X_train, X_test, y_train, y_test = train_test_split(X, y, test_size = 0.20, random_state = 42)\n",
    "\n",
    "reg = LinearRegression()\n",
    "model = reg.fit(X_train, y_train)\n",
    "\n",
    "y_pred = model.predict(X_test)"
   ]
  },
  {
   "cell_type": "code",
   "execution_count": 206,
   "id": "819d3485-c807-4bc4-a1a7-898367be4d60",
   "metadata": {},
   "outputs": [
    {
     "name": "stdout",
     "output_type": "stream",
     "text": [
      "R2 Score is:  -0.0023713310999782244\n"
     ]
    }
   ],
   "source": [
    "print(\"R2 Score is: \", r2_score(y_test, y_pred))"
   ]
  },
  {
   "cell_type": "code",
   "execution_count": 207,
   "id": "e7d49da1-be15-4691-9eab-887932639db1",
   "metadata": {},
   "outputs": [
    {
     "data": {
      "image/png": "[encoded data removed]",
      "text/plain": [
       "<Figure size 432x864 with 1 Axes>"
      ]
     },
     "metadata": {
      "needs_background": "light"
     },
     "output_type": "display_data"
    }
   ],
   "source": [
    "plt.figure(figsize=(6,12))\n",
    "\n",
    "plt.subplot(2, 1, 1)\n",
    "plt.scatter(x=y_test, y=y_pred, c=\"#3da4ab\", alpha=0.2)\n",
    "\n",
    "a = np.polyfit(y_test, y_pred, 1)\n",
    "plt.plot(y_test,(y_test),\"#851e3e\")\n",
    "plt.xlabel('Correct Values')\n",
    "plt.ylabel('Predicted')\n",
    "plt.show()"
   ]
  },
  {
   "cell_type": "markdown",
   "id": "1467e9cc-bd22-4568-8572-90498fd5de99",
   "metadata": {},
   "source": [
    "## **Random Forest**"
   ]
  },
  {
   "cell_type": "markdown",
   "id": "33cfeff5-6e46-446f-9230-35c269c3b813",
   "metadata": {},
   "source": [
    "### North America"
   ]
  },
  {
   "cell_type": "code",
   "execution_count": 212,
   "id": "b1d7a4c2-95ce-4c35-997a-bb4865b7adc7",
   "metadata": {},
   "outputs": [
    {
     "name": "stdout",
     "output_type": "stream",
     "text": [
      "Training Accuracy : 0.966470054716161\n",
      "Testing Accuracy : 0.9165156176105872\n",
      "R2 Score : 0.9165156176105872\n"
     ]
    }
   ],
   "source": [
    "from sklearn.ensemble import RandomForestRegressor\n",
    "\n",
    "X = dff.iloc[:, 4:5].values\n",
    "y = dff.iloc[:, -1].values\n",
    "\n",
    "X_train, X_test, y_train, y_test = train_test_split(X, y, test_size = 0.2, random_state = 0)\n",
    "\n",
    "rfr = RandomForestRegressor(n_estimators = 10, random_state = 0)\n",
    "rfr.fit(X_train, y_train)\n",
    "y_predrfr = rfr.predict(X_test)\n",
    "print(\"Training Accuracy :\", rfr.score(X_train, y_train))\n",
    "print(\"Testing Accuracy :\", rfr.score(X_test, y_test))\n",
    "print(\"R2 Score :\",r2_score(y_test,y_predrfr))"
   ]
  },
  {
   "cell_type": "markdown",
   "id": "606a743d-f658-4018-9fa2-fbecb07b93e3",
   "metadata": {},
   "source": [
    "## Europe"
   ]
  },
  {
   "cell_type": "code",
   "execution_count": 211,
   "id": "3b82f092-dbb8-4064-a0b4-70a88b8d6ad5",
   "metadata": {},
   "outputs": [
    {
     "name": "stdout",
     "output_type": "stream",
     "text": [
      "Training Accuracy : 0.9716747214250158\n",
      "Testing Accuracy : 0.8805567463934304\n",
      "R2 Score:  0.8805567463934304\n"
     ]
    }
   ],
   "source": [
    "X = dff.iloc[:, 5:6].values\n",
    "y = dff.iloc[:, -1].values\n",
    "\n",
    "X_train, X_test, y_train, y_test = train_test_split(X, y, test_size = 0.2, random_state = 0)\n",
    "\n",
    "rfr = RandomForestRegressor(n_estimators = 10, random_state = 0)\n",
    "rfr.fit(X_train, y_train)\n",
    "y_predrfr = rfr.predict(X_test)\n",
    "print(\"Training Accuracy :\", rfr.score(X_train, y_train))\n",
    "print(\"Testing Accuracy :\", rfr.score(X_test, y_test))\n",
    "print(\"R2 Score: \",r2_score(y_test,y_predrfr))"
   ]
  },
  {
   "cell_type": "markdown",
   "id": "05e57484-795a-4927-8270-3f128263a116",
   "metadata": {},
   "source": [
    "## Japan"
   ]
  },
  {
   "cell_type": "code",
   "execution_count": 214,
   "id": "01b195ae-2789-49e2-9b95-07b84fdeee5f",
   "metadata": {},
   "outputs": [
    {
     "name": "stdout",
     "output_type": "stream",
     "text": [
      "Training Accuracy : 0.567300200464638\n",
      "Testing Accuracy : 0.2330987404643582\n",
      "R2 Score : 0.2330987404643582\n"
     ]
    }
   ],
   "source": [
    "X = dff.iloc[:, 6:7].values\n",
    "y = dff.iloc[:, -1].values\n",
    "\n",
    "X_train, X_test, y_train, y_test = train_test_split(X, y, test_size = 0.2, random_state = 0)\n",
    "\n",
    "rfr = RandomForestRegressor(n_estimators = 10, random_state = 0)\n",
    "rfr.fit(X_train, y_train)\n",
    "y_predrfr = rfr.predict(X_test)\n",
    "print(\"Training Accuracy :\", rfr.score(X_train, y_train))\n",
    "print(\"Testing Accuracy :\", rfr.score(X_test, y_test))\n",
    "print(\"R2 Score :\",r2_score(y_test,y_predrfr))"
   ]
  },
  {
   "cell_type": "code",
   "execution_count": null,
   "id": "1373eb35-a754-449f-8589-bbf6c3eb1213",
   "metadata": {},
   "outputs": [],
   "source": []
  }
 ],
 "metadata": {
  "kernelspec": {
   "display_name": "Python 3 (ipykernel)",
   "language": "python",
   "name": "python3"
  },
  "language_info": {
   "codemirror_mode": {
    "name": "ipython",
    "version": 3
   },
   "file_extension": ".py",
   "mimetype": "text/x-python",
   "name": "python",
   "nbconvert_exporter": "python",
   "pygments_lexer": "ipython3",
   "version": "3.9.7"
  }
 },
 "nbformat": 4,
 "nbformat_minor": 5
}
